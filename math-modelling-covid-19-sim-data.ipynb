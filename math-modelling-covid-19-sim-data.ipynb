{
 "cells": [
  {
   "cell_type": "markdown",
   "id": "8a2c4d04-fb40-417f-9314-5f5f9fbfc934",
   "metadata": {},
   "source": [
    "## Build a contact network"
   ]
  },
  {
   "cell_type": "markdown",
   "id": "63bb5bf8-2f4a-4500-997f-6412fcc63150",
   "metadata": {},
   "source": [
    "# Download dataset"
   ]
  },
  {
   "cell_type": "code",
   "execution_count": null,
   "id": "99dfcc92-af01-4ff8-a1b6-4a969b5ca943",
   "metadata": {},
   "outputs": [],
   "source": [
    "#!wget https://lp-prod-resources.s3.amazonaws.com/628/66549/2021-06-25-19-30-14/PeopleLocations.csv"
   ]
  },
  {
   "cell_type": "code",
   "execution_count": 27,
   "id": "e4d49c0e-bbe2-4101-841f-5e797258004d",
   "metadata": {},
   "outputs": [],
   "source": [
    "import numpy as np\n",
    "import pandas as pd\n",
    "import networkx as nx\n",
    "from sklearn import preprocessing"
   ]
  },
  {
   "cell_type": "code",
   "execution_count": 2,
   "id": "942af55c-95a0-46e7-b8a7-a60cb4c68bc0",
   "metadata": {},
   "outputs": [],
   "source": [
    "# read in csv to pd.DataFrame\n",
    "df = pd.read_csv(\"PeopleLocations.csv\", sep = \";\", \n",
    "                 parse_dates=['Date'], dtype={'id': np.str_, 'Lat': np.float32, 'Lon': np.float32})"
   ]
  },
  {
   "cell_type": "code",
   "execution_count": 3,
   "id": "22c2c5eb-01d2-4e22-a0e7-7c718353731c",
   "metadata": {},
   "outputs": [],
   "source": [
    "# convert type to category\n",
    "df[\"Covid19\"] = df[\"Covid19\"].astype(\"category\")"
   ]
  },
  {
   "cell_type": "code",
   "execution_count": 4,
   "id": "ec13d5e3-beb7-4f2f-b914-f9a9b051a223",
   "metadata": {},
   "outputs": [
    {
     "data": {
      "text/plain": [
       "ID                 object\n",
       "Lat               float32\n",
       "Lon               float32\n",
       "Date       datetime64[ns]\n",
       "Time               object\n",
       "Covid19          category\n",
       "dtype: object"
      ]
     },
     "execution_count": 4,
     "metadata": {},
     "output_type": "execute_result"
    }
   ],
   "source": [
    "# check the dtypes\n",
    "df.dtypes"
   ]
  },
  {
   "cell_type": "code",
   "execution_count": 5,
   "id": "fca0548e",
   "metadata": {},
   "outputs": [],
   "source": [
    "# rename the first column \n",
    "df.rename(columns={\"ID\": \"IDcol\"}, inplace=True)"
   ]
  },
  {
   "cell_type": "code",
   "execution_count": 18,
   "id": "628384f0",
   "metadata": {},
   "outputs": [
    {
     "data": {
      "text/html": [
       "<div>\n",
       "<style scoped>\n",
       "    .dataframe tbody tr th:only-of-type {\n",
       "        vertical-align: middle;\n",
       "    }\n",
       "\n",
       "    .dataframe tbody tr th {\n",
       "        vertical-align: top;\n",
       "    }\n",
       "\n",
       "    .dataframe thead th {\n",
       "        text-align: right;\n",
       "    }\n",
       "</style>\n",
       "<table border=\"1\" class=\"dataframe\">\n",
       "  <thead>\n",
       "    <tr style=\"text-align: right;\">\n",
       "      <th></th>\n",
       "      <th>IDcol</th>\n",
       "      <th>Lat</th>\n",
       "      <th>Lon</th>\n",
       "      <th>Date</th>\n",
       "      <th>Time</th>\n",
       "      <th>Covid19</th>\n",
       "    </tr>\n",
       "  </thead>\n",
       "  <tbody>\n",
       "    <tr>\n",
       "      <th>0</th>\n",
       "      <td>Person1</td>\n",
       "      <td>60.185390</td>\n",
       "      <td>25.009689</td>\n",
       "      <td>2021-09-06</td>\n",
       "      <td>13:52:09</td>\n",
       "      <td>n</td>\n",
       "    </tr>\n",
       "    <tr>\n",
       "      <th>1</th>\n",
       "      <td>Person2</td>\n",
       "      <td>60.185387</td>\n",
       "      <td>25.009678</td>\n",
       "      <td>2021-09-06</td>\n",
       "      <td>13:52:09</td>\n",
       "      <td>n</td>\n",
       "    </tr>\n",
       "    <tr>\n",
       "      <th>2</th>\n",
       "      <td>Person3</td>\n",
       "      <td>60.185390</td>\n",
       "      <td>25.009695</td>\n",
       "      <td>2021-09-06</td>\n",
       "      <td>13:52:09</td>\n",
       "      <td>n</td>\n",
       "    </tr>\n",
       "    <tr>\n",
       "      <th>3</th>\n",
       "      <td>Person4</td>\n",
       "      <td>60.185390</td>\n",
       "      <td>25.009689</td>\n",
       "      <td>2021-09-06</td>\n",
       "      <td>13:52:09</td>\n",
       "      <td>y</td>\n",
       "    </tr>\n",
       "    <tr>\n",
       "      <th>4</th>\n",
       "      <td>Person5</td>\n",
       "      <td>60.185387</td>\n",
       "      <td>25.009672</td>\n",
       "      <td>2021-09-06</td>\n",
       "      <td>13:52:09</td>\n",
       "      <td>n</td>\n",
       "    </tr>\n",
       "    <tr>\n",
       "      <th>5</th>\n",
       "      <td>Person6</td>\n",
       "      <td>60.185394</td>\n",
       "      <td>25.009706</td>\n",
       "      <td>2021-09-06</td>\n",
       "      <td>13:52:09</td>\n",
       "      <td>n</td>\n",
       "    </tr>\n",
       "    <tr>\n",
       "      <th>6</th>\n",
       "      <td>Person7</td>\n",
       "      <td>60.185383</td>\n",
       "      <td>25.009668</td>\n",
       "      <td>2021-09-06</td>\n",
       "      <td>13:52:09</td>\n",
       "      <td>y</td>\n",
       "    </tr>\n",
       "    <tr>\n",
       "      <th>7</th>\n",
       "      <td>Person8</td>\n",
       "      <td>60.185387</td>\n",
       "      <td>25.009686</td>\n",
       "      <td>2021-09-06</td>\n",
       "      <td>13:52:09</td>\n",
       "      <td>n</td>\n",
       "    </tr>\n",
       "    <tr>\n",
       "      <th>8</th>\n",
       "      <td>Person9</td>\n",
       "      <td>60.185379</td>\n",
       "      <td>25.009634</td>\n",
       "      <td>2021-09-06</td>\n",
       "      <td>13:52:09</td>\n",
       "      <td>n</td>\n",
       "    </tr>\n",
       "    <tr>\n",
       "      <th>9</th>\n",
       "      <td>Person10</td>\n",
       "      <td>60.185387</td>\n",
       "      <td>25.009678</td>\n",
       "      <td>2021-09-06</td>\n",
       "      <td>13:52:09</td>\n",
       "      <td>n</td>\n",
       "    </tr>\n",
       "  </tbody>\n",
       "</table>\n",
       "</div>"
      ],
      "text/plain": [
       "      IDcol        Lat        Lon       Date      Time Covid19\n",
       "0   Person1  60.185390  25.009689 2021-09-06  13:52:09       n\n",
       "1   Person2  60.185387  25.009678 2021-09-06  13:52:09       n\n",
       "2   Person3  60.185390  25.009695 2021-09-06  13:52:09       n\n",
       "3   Person4  60.185390  25.009689 2021-09-06  13:52:09       y\n",
       "4   Person5  60.185387  25.009672 2021-09-06  13:52:09       n\n",
       "5   Person6  60.185394  25.009706 2021-09-06  13:52:09       n\n",
       "6   Person7  60.185383  25.009668 2021-09-06  13:52:09       y\n",
       "7   Person8  60.185387  25.009686 2021-09-06  13:52:09       n\n",
       "8   Person9  60.185379  25.009634 2021-09-06  13:52:09       n\n",
       "9  Person10  60.185387  25.009678 2021-09-06  13:52:09       n"
      ]
     },
     "execution_count": 18,
     "metadata": {},
     "output_type": "execute_result"
    }
   ],
   "source": [
    "# a bit of the data\n",
    "df.head(10)"
   ]
  },
  {
   "cell_type": "code",
   "execution_count": 26,
   "id": "37182a0e",
   "metadata": {},
   "outputs": [
    {
     "data": {
      "text/plain": [
       "'They are no duplicates in the dataset. However, 300 is.'"
      ]
     },
     "execution_count": 26,
     "metadata": {},
     "output_type": "execute_result"
    }
   ],
   "source": [
    "# determine a list of different individuals for which there is at least one record in the csv file \n",
    "dups = df[df.IDcol.duplicated()]\n",
    "\n",
    "# count the number of different individuals. this will be the number of nodes in the contace network \n",
    "no_of_nodes = df.shape[0]\n",
    "\n",
    "\n",
    "f\"They are no duplicates in the dataset. However, {no_of_nodes} is.\""
   ]
  },
  {
   "cell_type": "code",
   "execution_count": 28,
   "id": "7d93307f",
   "metadata": {},
   "outputs": [
    {
     "data": {
      "text/plain": [
       "array([0, 0, 0, 1, 0, 0, 1, 0, 0, 0, 0, 0, 0, 1, 1, 0, 0, 0, 1, 0, 0, 0,\n",
       "       0, 0, 1, 1, 0, 1, 1, 0, 0, 1, 1, 0, 0, 0, 0, 1, 0, 0, 0, 0, 0, 0,\n",
       "       0, 0, 1, 0, 0, 0, 0, 0, 1, 0, 0, 0, 0, 0, 0, 0, 1, 0, 0, 0, 1, 1,\n",
       "       0, 1, 1, 0, 1, 0, 1, 0, 0, 1, 0, 1, 0, 0, 0, 1, 0, 1, 0, 0, 1, 1,\n",
       "       0, 0, 0, 0, 1, 0, 1, 0, 0, 1, 0, 0, 1, 1, 0, 0, 0, 1, 0, 0, 0, 0,\n",
       "       0, 0, 0, 0, 1, 0, 1, 0, 1, 0, 0, 0, 1, 1, 0, 0, 1, 0, 0, 0, 0, 0,\n",
       "       1, 0, 1, 1, 1, 1, 0, 1, 0, 0, 0, 1, 1, 0, 1, 0, 0, 0, 1, 0, 0, 0,\n",
       "       1, 1, 0, 0, 0, 1, 0, 0, 1, 0, 0, 0, 0, 0, 1, 0, 1, 1, 1, 0, 0, 1,\n",
       "       1, 1, 1, 1, 0, 1, 0, 0, 1, 0, 0, 1, 1, 0, 1, 0, 0, 0, 0, 0, 0, 1,\n",
       "       1, 1, 1, 1, 1, 1, 1, 1, 1, 1, 1, 0, 0, 1, 1, 0, 1, 0, 1, 0, 0, 0,\n",
       "       1, 1, 0, 0, 1, 1, 0, 1, 1, 1, 0, 1, 0, 1, 1, 1, 1, 1, 1, 0, 1, 1,\n",
       "       0, 1, 1, 1, 1, 0, 1, 1, 0, 1, 0, 0, 0, 1, 1, 1, 1, 1, 0, 1, 1, 0,\n",
       "       1, 0, 1, 1, 0, 1, 0, 1, 0, 0, 1, 1, 0, 1, 1, 1, 1, 0, 0, 0, 0, 1,\n",
       "       0, 0, 1, 1, 0, 1, 1, 1, 1, 0, 1, 1, 1, 0])"
      ]
     },
     "execution_count": 28,
     "metadata": {},
     "output_type": "execute_result"
    }
   ],
   "source": [
    "# preprocessing the dataframe: Covid19 column\n",
    "le = preprocessing.LabelEncoder()\n",
    "le.fit_transform(df.Covid19)"
   ]
  },
  {
   "cell_type": "code",
   "execution_count": 7,
   "id": "24e08b29-653c-4747-b904-481f52d69eee",
   "metadata": {},
   "outputs": [],
   "source": [
    "# create a graph object\n",
    "G = nx.Graph()"
   ]
  },
  {
   "cell_type": "code",
   "execution_count": 13,
   "id": "4a238a65-0241-4769-a84e-09b43d90df04",
   "metadata": {},
   "outputs": [
    {
     "ename": "TypeError",
     "evalue": "'Series' objects are mutable, thus they cannot be hashed",
     "output_type": "error",
     "traceback": [
      "\u001b[0;31m---------------------------------------------------------------------------\u001b[0m",
      "\u001b[0;31mTypeError\u001b[0m                                 Traceback (most recent call last)",
      "\u001b[0;32m/tmp/ipykernel_11757/3747231467.py\u001b[0m in \u001b[0;36m<module>\u001b[0;34m\u001b[0m\n\u001b[0;32m----> 1\u001b[0;31m \u001b[0mG\u001b[0m\u001b[0;34m.\u001b[0m\u001b[0madd_nodes_from\u001b[0m\u001b[0;34m(\u001b[0m\u001b[0;34m{\u001b[0m\u001b[0mdf\u001b[0m\u001b[0;34m[\u001b[0m\u001b[0;34m'IDcol'\u001b[0m\u001b[0;34m]\u001b[0m\u001b[0;34m}\u001b[0m\u001b[0;34m)\u001b[0m\u001b[0;34m\u001b[0m\u001b[0;34m\u001b[0m\u001b[0m\n\u001b[0m",
      "\u001b[0;32m~/miniconda3/lib/python3.8/site-packages/pandas/core/generic.py\u001b[0m in \u001b[0;36m__hash__\u001b[0;34m(self)\u001b[0m\n\u001b[1;32m   1666\u001b[0m \u001b[0;34m\u001b[0m\u001b[0m\n\u001b[1;32m   1667\u001b[0m     \u001b[0;32mdef\u001b[0m \u001b[0m__hash__\u001b[0m\u001b[0;34m(\u001b[0m\u001b[0mself\u001b[0m\u001b[0;34m)\u001b[0m\u001b[0;34m:\u001b[0m\u001b[0;34m\u001b[0m\u001b[0;34m\u001b[0m\u001b[0m\n\u001b[0;32m-> 1668\u001b[0;31m         raise TypeError(\n\u001b[0m\u001b[1;32m   1669\u001b[0m             \u001b[0;34mf\"{repr(type(self).__name__)} objects are mutable, \"\u001b[0m\u001b[0;34m\u001b[0m\u001b[0;34m\u001b[0m\u001b[0m\n\u001b[1;32m   1670\u001b[0m             \u001b[0;34mf\"thus they cannot be hashed\"\u001b[0m\u001b[0;34m\u001b[0m\u001b[0;34m\u001b[0m\u001b[0m\n",
      "\u001b[0;31mTypeError\u001b[0m: 'Series' objects are mutable, thus they cannot be hashed"
     ]
    }
   ],
   "source": [
    "G.add_nodes_from({df['IDcol']})"
   ]
  },
  {
   "cell_type": "code",
   "execution_count": 12,
   "id": "5ed331f5-e5c6-449b-bfba-bc6b88af16d0",
   "metadata": {},
   "outputs": [
    {
     "data": {
      "text/plain": [
       "NodeView(('names',))"
      ]
     },
     "execution_count": 12,
     "metadata": {},
     "output_type": "execute_result"
    }
   ],
   "source": [
    "G.nodes()"
   ]
  },
  {
   "cell_type": "code",
   "execution_count": null,
   "id": "f1c758de-732c-48c3-8a5b-a85a2e1a145d",
   "metadata": {},
   "outputs": [],
   "source": []
  },
  {
   "cell_type": "code",
   "execution_count": null,
   "id": "8e43a42a-aef6-47e1-8880-c002a81f608c",
   "metadata": {},
   "outputs": [],
   "source": []
  }
 ],
 "metadata": {
  "kernelspec": {
   "display_name": "Python 3 (ipykernel)",
   "language": "python",
   "name": "python3"
  },
  "language_info": {
   "codemirror_mode": {
    "name": "ipython",
    "version": 3
   },
   "file_extension": ".py",
   "mimetype": "text/x-python",
   "name": "python",
   "nbconvert_exporter": "python",
   "pygments_lexer": "ipython3",
   "version": "3.8.5"
  }
 },
 "nbformat": 4,
 "nbformat_minor": 5
}
