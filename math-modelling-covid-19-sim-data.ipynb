{
 "cells": [
  {
   "cell_type": "markdown",
   "id": "8a2c4d04-fb40-417f-9314-5f5f9fbfc934",
   "metadata": {},
   "source": [
    "## Build a contact network"
   ]
  },
  {
   "cell_type": "markdown",
   "id": "63bb5bf8-2f4a-4500-997f-6412fcc63150",
   "metadata": {},
   "source": [
    "# Download dataset"
   ]
  },
  {
   "cell_type": "code",
   "execution_count": 1,
   "id": "99dfcc92-af01-4ff8-a1b6-4a969b5ca943",
   "metadata": {},
   "outputs": [
    {
     "name": "stdout",
     "output_type": "stream",
     "text": [
      "--2023-02-20 11:06:12--  https://lp-prod-resources.s3.amazonaws.com/628/66549/2021-06-25-19-30-14/PeopleLocations.csv\n",
      "Resolving lp-prod-resources.s3.amazonaws.com (lp-prod-resources.s3.amazonaws.com)... 52.218.153.211, 52.92.146.33, 52.92.192.137, ...\n",
      "Connecting to lp-prod-resources.s3.amazonaws.com (lp-prod-resources.s3.amazonaws.com)|52.218.153.211|:443... connected.\n",
      "HTTP request sent, awaiting response... 200 OK\n",
      "Length: 16055 (16K) [application/octet-stream]\n",
      "Saving to: ‘PeopleLocations.csv’\n",
      "\n",
      "PeopleLocations.csv 100%[===================>]  15.68K  72.6KB/s    in 0.2s    \n",
      "\n",
      "2023-02-20 11:06:14 (72.6 KB/s) - ‘PeopleLocations.csv’ saved [16055/16055]\n",
      "\n"
     ]
    }
   ],
   "source": [
    "!wget https://lp-prod-resources.s3.amazonaws.com/628/66549/2021-06-25-19-30-14/PeopleLocations.csv"
   ]
  },
  {
   "cell_type": "code",
   "execution_count": 15,
   "id": "e4d49c0e-bbe2-4101-841f-5e797258004d",
   "metadata": {},
   "outputs": [],
   "source": [
    "import numpy as np\n",
    "import pandas as pd\n",
    "import networkx as nx"
   ]
  },
  {
   "cell_type": "code",
   "execution_count": 16,
   "id": "942af55c-95a0-46e7-b8a7-a60cb4c68bc0",
   "metadata": {},
   "outputs": [],
   "source": [
    "# read in csv to pd.DataFrame\n",
    "df = pd.read_csv(\"PeopleLocations.csv\", sep = \";\", \n",
    "                 parse_dates=['Date'], dtype={'id': np.str_, 'Lat': np.float32, 'Lon': np.float32})"
   ]
  },
  {
   "cell_type": "code",
   "execution_count": 17,
   "id": "22c2c5eb-01d2-4e22-a0e7-7c718353731c",
   "metadata": {},
   "outputs": [],
   "source": [
    "# convert type to category\n",
    "df[\"Covid19\"] = df[\"Covid19\"].astype(\"category\")"
   ]
  },
  {
   "cell_type": "code",
   "execution_count": 18,
   "id": "ec13d5e3-beb7-4f2f-b914-f9a9b051a223",
   "metadata": {},
   "outputs": [
    {
     "data": {
      "text/plain": [
       "ID                 object\n",
       "Lat               float32\n",
       "Lon               float32\n",
       "Date       datetime64[ns]\n",
       "Time               object\n",
       "Covid19          category\n",
       "dtype: object"
      ]
     },
     "execution_count": 18,
     "metadata": {},
     "output_type": "execute_result"
    }
   ],
   "source": [
    "# check the dtypes\n",
    "df.dtypes"
   ]
  },
  {
   "cell_type": "code",
   "execution_count": 26,
   "id": "24e08b29-653c-4747-b904-481f52d69eee",
   "metadata": {},
   "outputs": [],
   "source": [
    "# create a graph object\n",
    "G = nx.Graph()"
   ]
  },
  {
   "cell_type": "code",
   "execution_count": 41,
   "id": "4a238a65-0241-4769-a84e-09b43d90df04",
   "metadata": {},
   "outputs": [],
   "source": [
    "G.add_nodes_from({\"names\":df.ID})"
   ]
  },
  {
   "cell_type": "code",
   "execution_count": 45,
   "id": "5ed331f5-e5c6-449b-bfba-bc6b88af16d0",
   "metadata": {},
   "outputs": [
    {
     "data": {
      "text/plain": [
       "NodeView(('Person1', 'Person2', 'Person3', 'Person4', 'Person5', 'Person6', 'Person7', 'Person8', 'Person9', 'Person10', 'Person11', 'Person12', 'Person13', 'Person14', 'Person15', 'Person16', 'Person17', 'Person18', 'Person19', 'Person20', 'Person21', 'Person22', 'Person23', 'Person24', 'Person25', 'Person26', 'Person27', 'Person28', 'Person29', 'Person30', 'Person31', 'Person32', 'Person33', 'Person34', 'Person35', 'Person36', 'Person37', 'Person38', 'Person39', 'Person40', 'Person41', 'Person42', 'Person43', 'Person44', 'Person45', 'Person46', 'Person47', 'Person48', 'Person49', 'Person50', 'Person51', 'Person52', 'Person53', 'Person54', 'Person55', 'Person56', 'Person57', 'Person58', 'Person59', 'Person60', 'Person61', 'Person62', 'Person63', 'Person64', 'Person65', 'Person66', 'Person67', 'Person68', 'Person69', 'Person70', 'Person71', 'Person72', 'Person73', 'Person74', 'Person75', 'Person76', 'Person77', 'Person78', 'Person79', 'Person80', 'Person81', 'Person82', 'Person83', 'Person84', 'Person85', 'Person86', 'Person87', 'Person88', 'Person89', 'Person90', 'Person91', 'Person92', 'Person93', 'Person94', 'Person95', 'Person96', 'Person97', 'Person98', 'Person99', 'Person100', 'Person101', 'Person102', 'Person103', 'Person104', 'Person105', 'Person106', 'Person107', 'Person108', 'Person109', 'Person110', 'Person111', 'Person112', 'Person113', 'Person114', 'Person115', 'Person116', 'Person117', 'Person118', 'Person119', 'Person120', 'Person121', 'Person122', 'Person123', 'Person124', 'Person125', 'Person126', 'Person127', 'Person128', 'Person129', 'Person130', 'Person131', 'Person132', 'Person133', 'Person134', 'Person135', 'Person136', 'Person137', 'Person138', 'Person139', 'Person140', 'Person141', 'Person142', 'Person143', 'Person144', 'Person145', 'Person146', 'Person147', 'Person148', 'Person149', 'Person150', 'Person151', 'Person152', 'Person153', 'Person154', 'Person155', 'Person156', 'Person157', 'Person158', 'Person159', 'Person160', 'Person161', 'Person162', 'Person163', 'Person164', 'Person165', 'Person166', 'Person167', 'Person168', 'Person169', 'Person170', 'Person171', 'Person172', 'Person173', 'Person174', 'Person175', 'Person176', 'Person177', 'Person178', 'Person179', 'Person180', 'Person181', 'Person182', 'Person183', 'Person184', 'Person185', 'Person186', 'Person187', 'Person188', 'Person189', 'Person190', 'Person191', 'Person192', 'Person193', 'Person194', 'Person195', 'Person196', 'Person197', 'Person198', 'Person199', 'Person200', 'Person201', 'Person202', 'Person203', 'Person204', 'Person205', 'Person206', 'Person207', 'Person208', 'Person209', 'Person210', 'Person211', 'Person212', 'Person213', 'Person214', 'Person215', 'Person216', 'Person217', 'Person218', 'Person219', 'Person220', 'Person221', 'Person222', 'Person223', 'Person224', 'Person225', 'Person226', 'Person227', 'Person228', 'Person229', 'Person230', 'Person231', 'Person232', 'Person233', 'Person234', 'Person235', 'Person236', 'Person237', 'Person238', 'Person239', 'Person240', 'Person241', 'Person242', 'Person243', 'Person244', 'Person245', 'Person246', 'Person247', 'Person248', 'Person249', 'Person250', 'Person251', 'Person252', 'Person253', 'Person254', 'Person255', 'Person256', 'Person257', 'Person258', 'Person259', 'Person260', 'Person261', 'Person262', 'Person263', 'Person264', 'Person265', 'Person266', 'Person267', 'Person268', 'Person269', 'Person270', 'Person271', 'Person272', 'Person273', 'Person274', 'Person275', 'Person276', 'Person277', 'Person278', 'Person279', 'Person280', 'Person281', 'Person282', 'Person283', 'Person284', 'Person285', 'Person286', 'Person287', 'Person288', 'Person289', 'Person290', 'Person291', 'Person292', 'Person293', 'Person294', 'Person295', 'Person296', 'Person297', 'Person298', 'Person299', 'Person300', 'names'))"
      ]
     },
     "execution_count": 45,
     "metadata": {},
     "output_type": "execute_result"
    }
   ],
   "source": [
    "G.nodes()"
   ]
  },
  {
   "cell_type": "code",
   "execution_count": null,
   "id": "f1c758de-732c-48c3-8a5b-a85a2e1a145d",
   "metadata": {},
   "outputs": [],
   "source": []
  },
  {
   "cell_type": "code",
   "execution_count": null,
   "id": "8e43a42a-aef6-47e1-8880-c002a81f608c",
   "metadata": {},
   "outputs": [],
   "source": []
  }
 ],
 "metadata": {
  "kernelspec": {
   "display_name": "Python 3 (ipykernel)",
   "language": "python",
   "name": "python3"
  },
  "language_info": {
   "codemirror_mode": {
    "name": "ipython",
    "version": 3
   },
   "file_extension": ".py",
   "mimetype": "text/x-python",
   "name": "python",
   "nbconvert_exporter": "python",
   "pygments_lexer": "ipython3",
   "version": "3.10.8"
  }
 },
 "nbformat": 4,
 "nbformat_minor": 5
}
