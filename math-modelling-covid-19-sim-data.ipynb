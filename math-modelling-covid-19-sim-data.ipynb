{
 "cells": [
  {
   "cell_type": "markdown",
   "id": "8a2c4d04-fb40-417f-9314-5f5f9fbfc934",
   "metadata": {},
   "source": [
    "## Build a contact network"
   ]
  },
  {
   "cell_type": "markdown",
   "id": "63bb5bf8-2f4a-4500-997f-6412fcc63150",
   "metadata": {},
   "source": [
    "# Download dataset"
   ]
  },
  {
   "cell_type": "code",
   "execution_count": null,
   "id": "99dfcc92-af01-4ff8-a1b6-4a969b5ca943",
   "metadata": {},
   "outputs": [],
   "source": [
    "#!wget https://lp-prod-resources.s3.amazonaws.com/628/66549/2021-06-25-19-30-14/PeopleLocations.csv"
   ]
  },
  {
   "cell_type": "code",
   "execution_count": 1,
   "id": "e4d49c0e-bbe2-4101-841f-5e797258004d",
   "metadata": {},
   "outputs": [],
   "source": [
    "import numpy as np\n",
    "import pandas as pd\n",
    "import matplotlib.pyplot as plt\n",
    "import networkx as nx\n",
    "import datetime as dt\n",
    "from sklearn import preprocessing\n",
    "from geopy.distance import geodesic "
   ]
  },
  {
   "cell_type": "code",
   "execution_count": 2,
   "id": "942af55c-95a0-46e7-b8a7-a60cb4c68bc0",
   "metadata": {},
   "outputs": [],
   "source": [
    "# read in csv to pd.DataFrame\n",
    "df = pd.read_csv(\"PeopleLocations.csv\", sep = \";\", \n",
    "                dtype={'id': np.str_, 'Lat': np.float32, 'Lon': np.float32})"
   ]
  },
  {
   "cell_type": "code",
   "execution_count": 3,
   "id": "22c2c5eb-01d2-4e22-a0e7-7c718353731c",
   "metadata": {},
   "outputs": [],
   "source": [
    "# convert type to category\n",
    "df[\"Covid19\"] = df[\"Covid19\"].astype(\"category\")"
   ]
  },
  {
   "cell_type": "code",
   "execution_count": 4,
   "id": "ec13d5e3-beb7-4f2f-b914-f9a9b051a223",
   "metadata": {},
   "outputs": [
    {
     "data": {
      "text/plain": [
       "ID           object\n",
       "Lat         float32\n",
       "Lon         float32\n",
       "Date         object\n",
       "Time         object\n",
       "Covid19    category\n",
       "dtype: object"
      ]
     },
     "execution_count": 4,
     "metadata": {},
     "output_type": "execute_result"
    }
   ],
   "source": [
    "# check the dtypes\n",
    "df.dtypes"
   ]
  },
  {
   "cell_type": "code",
   "execution_count": 5,
   "id": "fca0548e",
   "metadata": {},
   "outputs": [],
   "source": [
    "# rename the first column \n",
    "df.rename(columns={\"ID\": \"IDcol\"}, inplace=True)"
   ]
  },
  {
   "cell_type": "code",
   "execution_count": 6,
   "id": "0eecb840",
   "metadata": {},
   "outputs": [],
   "source": [
    "# store the header of the first colum of dataframe df in variable \"IDcol\"\n",
    "IDcol = df.columns[0]\n",
    "\n",
    "# determine a list of different individuals for which there is at least one record in the csv file\n",
    "uniquepart = df[IDcol].unique()"
   ]
  },
  {
   "cell_type": "code",
   "execution_count": 7,
   "id": "628384f0",
   "metadata": {},
   "outputs": [
    {
     "data": {
      "text/html": [
       "<div>\n",
       "<style scoped>\n",
       "    .dataframe tbody tr th:only-of-type {\n",
       "        vertical-align: middle;\n",
       "    }\n",
       "\n",
       "    .dataframe tbody tr th {\n",
       "        vertical-align: top;\n",
       "    }\n",
       "\n",
       "    .dataframe thead th {\n",
       "        text-align: right;\n",
       "    }\n",
       "</style>\n",
       "<table border=\"1\" class=\"dataframe\">\n",
       "  <thead>\n",
       "    <tr style=\"text-align: right;\">\n",
       "      <th></th>\n",
       "      <th>IDcol</th>\n",
       "      <th>Lat</th>\n",
       "      <th>Lon</th>\n",
       "      <th>Date</th>\n",
       "      <th>Time</th>\n",
       "      <th>Covid19</th>\n",
       "    </tr>\n",
       "  </thead>\n",
       "  <tbody>\n",
       "    <tr>\n",
       "      <th>0</th>\n",
       "      <td>Person1</td>\n",
       "      <td>60.185390</td>\n",
       "      <td>25.009689</td>\n",
       "      <td>09-06-2021</td>\n",
       "      <td>13:52:09</td>\n",
       "      <td>n</td>\n",
       "    </tr>\n",
       "    <tr>\n",
       "      <th>1</th>\n",
       "      <td>Person2</td>\n",
       "      <td>60.185387</td>\n",
       "      <td>25.009678</td>\n",
       "      <td>09-06-2021</td>\n",
       "      <td>13:52:09</td>\n",
       "      <td>n</td>\n",
       "    </tr>\n",
       "    <tr>\n",
       "      <th>2</th>\n",
       "      <td>Person3</td>\n",
       "      <td>60.185390</td>\n",
       "      <td>25.009695</td>\n",
       "      <td>09-06-2021</td>\n",
       "      <td>13:52:09</td>\n",
       "      <td>n</td>\n",
       "    </tr>\n",
       "    <tr>\n",
       "      <th>3</th>\n",
       "      <td>Person4</td>\n",
       "      <td>60.185390</td>\n",
       "      <td>25.009689</td>\n",
       "      <td>09-06-2021</td>\n",
       "      <td>13:52:09</td>\n",
       "      <td>y</td>\n",
       "    </tr>\n",
       "    <tr>\n",
       "      <th>4</th>\n",
       "      <td>Person5</td>\n",
       "      <td>60.185387</td>\n",
       "      <td>25.009672</td>\n",
       "      <td>09-06-2021</td>\n",
       "      <td>13:52:09</td>\n",
       "      <td>n</td>\n",
       "    </tr>\n",
       "    <tr>\n",
       "      <th>5</th>\n",
       "      <td>Person6</td>\n",
       "      <td>60.185394</td>\n",
       "      <td>25.009706</td>\n",
       "      <td>09-06-2021</td>\n",
       "      <td>13:52:09</td>\n",
       "      <td>n</td>\n",
       "    </tr>\n",
       "    <tr>\n",
       "      <th>6</th>\n",
       "      <td>Person7</td>\n",
       "      <td>60.185383</td>\n",
       "      <td>25.009668</td>\n",
       "      <td>09-06-2021</td>\n",
       "      <td>13:52:09</td>\n",
       "      <td>y</td>\n",
       "    </tr>\n",
       "    <tr>\n",
       "      <th>7</th>\n",
       "      <td>Person8</td>\n",
       "      <td>60.185387</td>\n",
       "      <td>25.009686</td>\n",
       "      <td>09-06-2021</td>\n",
       "      <td>13:52:09</td>\n",
       "      <td>n</td>\n",
       "    </tr>\n",
       "    <tr>\n",
       "      <th>8</th>\n",
       "      <td>Person9</td>\n",
       "      <td>60.185379</td>\n",
       "      <td>25.009634</td>\n",
       "      <td>09-06-2021</td>\n",
       "      <td>13:52:09</td>\n",
       "      <td>n</td>\n",
       "    </tr>\n",
       "    <tr>\n",
       "      <th>9</th>\n",
       "      <td>Person10</td>\n",
       "      <td>60.185387</td>\n",
       "      <td>25.009678</td>\n",
       "      <td>09-06-2021</td>\n",
       "      <td>13:52:09</td>\n",
       "      <td>n</td>\n",
       "    </tr>\n",
       "  </tbody>\n",
       "</table>\n",
       "</div>"
      ],
      "text/plain": [
       "      IDcol        Lat        Lon        Date      Time Covid19\n",
       "0   Person1  60.185390  25.009689  09-06-2021  13:52:09       n\n",
       "1   Person2  60.185387  25.009678  09-06-2021  13:52:09       n\n",
       "2   Person3  60.185390  25.009695  09-06-2021  13:52:09       n\n",
       "3   Person4  60.185390  25.009689  09-06-2021  13:52:09       y\n",
       "4   Person5  60.185387  25.009672  09-06-2021  13:52:09       n\n",
       "5   Person6  60.185394  25.009706  09-06-2021  13:52:09       n\n",
       "6   Person7  60.185383  25.009668  09-06-2021  13:52:09       y\n",
       "7   Person8  60.185387  25.009686  09-06-2021  13:52:09       n\n",
       "8   Person9  60.185379  25.009634  09-06-2021  13:52:09       n\n",
       "9  Person10  60.185387  25.009678  09-06-2021  13:52:09       n"
      ]
     },
     "execution_count": 7,
     "metadata": {},
     "output_type": "execute_result"
    }
   ],
   "source": [
    "# a bit of the data\n",
    "df.head(10)"
   ]
  },
  {
   "cell_type": "code",
   "execution_count": 8,
   "id": "37182a0e",
   "metadata": {},
   "outputs": [
    {
     "data": {
      "text/plain": [
       "'They are no duplicates in the dataset. However, 300 is the number of nodes.'"
      ]
     },
     "execution_count": 8,
     "metadata": {},
     "output_type": "execute_result"
    }
   ],
   "source": [
    "# determine a list of different individuals for which there is at least one record in the csv file \n",
    "dups = df[df.IDcol.duplicated()]\n",
    "\n",
    "# count the number of different individuals. this will be the number of nodes in the contace network \n",
    "no_of_nodes = df.shape[0]\n",
    "\n",
    "\n",
    "f\"They are no duplicates in the dataset. However, {no_of_nodes} is the number of nodes.\""
   ]
  },
  {
   "cell_type": "code",
   "execution_count": 9,
   "id": "4e20068d",
   "metadata": {},
   "outputs": [
    {
     "data": {
      "text/html": [
       "<div>\n",
       "<style scoped>\n",
       "    .dataframe tbody tr th:only-of-type {\n",
       "        vertical-align: middle;\n",
       "    }\n",
       "\n",
       "    .dataframe tbody tr th {\n",
       "        vertical-align: top;\n",
       "    }\n",
       "\n",
       "    .dataframe thead th {\n",
       "        text-align: right;\n",
       "    }\n",
       "</style>\n",
       "<table border=\"1\" class=\"dataframe\">\n",
       "  <thead>\n",
       "    <tr style=\"text-align: right;\">\n",
       "      <th></th>\n",
       "      <th>Covid19</th>\n",
       "    </tr>\n",
       "  </thead>\n",
       "  <tbody>\n",
       "    <tr>\n",
       "      <th>0</th>\n",
       "      <td>n</td>\n",
       "    </tr>\n",
       "    <tr>\n",
       "      <th>1</th>\n",
       "      <td>n</td>\n",
       "    </tr>\n",
       "    <tr>\n",
       "      <th>2</th>\n",
       "      <td>n</td>\n",
       "    </tr>\n",
       "    <tr>\n",
       "      <th>3</th>\n",
       "      <td>y</td>\n",
       "    </tr>\n",
       "    <tr>\n",
       "      <th>4</th>\n",
       "      <td>n</td>\n",
       "    </tr>\n",
       "    <tr>\n",
       "      <th>...</th>\n",
       "      <td>...</td>\n",
       "    </tr>\n",
       "    <tr>\n",
       "      <th>295</th>\n",
       "      <td>n</td>\n",
       "    </tr>\n",
       "    <tr>\n",
       "      <th>296</th>\n",
       "      <td>y</td>\n",
       "    </tr>\n",
       "    <tr>\n",
       "      <th>297</th>\n",
       "      <td>y</td>\n",
       "    </tr>\n",
       "    <tr>\n",
       "      <th>298</th>\n",
       "      <td>y</td>\n",
       "    </tr>\n",
       "    <tr>\n",
       "      <th>299</th>\n",
       "      <td>n</td>\n",
       "    </tr>\n",
       "  </tbody>\n",
       "</table>\n",
       "<p>300 rows × 1 columns</p>\n",
       "</div>"
      ],
      "text/plain": [
       "    Covid19\n",
       "0         n\n",
       "1         n\n",
       "2         n\n",
       "3         y\n",
       "4         n\n",
       "..      ...\n",
       "295       n\n",
       "296       y\n",
       "297       y\n",
       "298       y\n",
       "299       n\n",
       "\n",
       "[300 rows x 1 columns]"
      ]
     },
     "execution_count": 9,
     "metadata": {},
     "output_type": "execute_result"
    }
   ],
   "source": [
    "# before transformation\n",
    "df[[\"Covid19\"]]"
   ]
  },
  {
   "cell_type": "code",
   "execution_count": 10,
   "id": "7d93307f",
   "metadata": {},
   "outputs": [],
   "source": [
    "# preprocessing the dataframe: Covid19 column \n",
    "# 0 = no covid19, 1 = covid19 using sklearn.preprocessing.LabelEncoder \n",
    "# use apply() to apply the LabelEncoder to the Covid19 column\n",
    "le = preprocessing.LabelEncoder()\n",
    "df[\"Covid19\"] = df[[\"Covid19\"]].apply(le.fit_transform)"
   ]
  },
  {
   "cell_type": "code",
   "execution_count": 11,
   "id": "2269d837",
   "metadata": {},
   "outputs": [
    {
     "data": {
      "text/html": [
       "<div>\n",
       "<style scoped>\n",
       "    .dataframe tbody tr th:only-of-type {\n",
       "        vertical-align: middle;\n",
       "    }\n",
       "\n",
       "    .dataframe tbody tr th {\n",
       "        vertical-align: top;\n",
       "    }\n",
       "\n",
       "    .dataframe thead th {\n",
       "        text-align: right;\n",
       "    }\n",
       "</style>\n",
       "<table border=\"1\" class=\"dataframe\">\n",
       "  <thead>\n",
       "    <tr style=\"text-align: right;\">\n",
       "      <th></th>\n",
       "      <th>Covid19</th>\n",
       "    </tr>\n",
       "  </thead>\n",
       "  <tbody>\n",
       "    <tr>\n",
       "      <th>0</th>\n",
       "      <td>0</td>\n",
       "    </tr>\n",
       "    <tr>\n",
       "      <th>1</th>\n",
       "      <td>0</td>\n",
       "    </tr>\n",
       "    <tr>\n",
       "      <th>2</th>\n",
       "      <td>0</td>\n",
       "    </tr>\n",
       "    <tr>\n",
       "      <th>3</th>\n",
       "      <td>1</td>\n",
       "    </tr>\n",
       "    <tr>\n",
       "      <th>4</th>\n",
       "      <td>0</td>\n",
       "    </tr>\n",
       "    <tr>\n",
       "      <th>...</th>\n",
       "      <td>...</td>\n",
       "    </tr>\n",
       "    <tr>\n",
       "      <th>295</th>\n",
       "      <td>0</td>\n",
       "    </tr>\n",
       "    <tr>\n",
       "      <th>296</th>\n",
       "      <td>1</td>\n",
       "    </tr>\n",
       "    <tr>\n",
       "      <th>297</th>\n",
       "      <td>1</td>\n",
       "    </tr>\n",
       "    <tr>\n",
       "      <th>298</th>\n",
       "      <td>1</td>\n",
       "    </tr>\n",
       "    <tr>\n",
       "      <th>299</th>\n",
       "      <td>0</td>\n",
       "    </tr>\n",
       "  </tbody>\n",
       "</table>\n",
       "<p>300 rows × 1 columns</p>\n",
       "</div>"
      ],
      "text/plain": [
       "     Covid19\n",
       "0          0\n",
       "1          0\n",
       "2          0\n",
       "3          1\n",
       "4          0\n",
       "..       ...\n",
       "295        0\n",
       "296        1\n",
       "297        1\n",
       "298        1\n",
       "299        0\n",
       "\n",
       "[300 rows x 1 columns]"
      ]
     },
     "execution_count": 11,
     "metadata": {},
     "output_type": "execute_result"
    }
   ],
   "source": [
    "# after transformation\n",
    "df[[\"Covid19\"]]"
   ]
  },
  {
   "cell_type": "code",
   "execution_count": 12,
   "id": "22ee480c",
   "metadata": {},
   "outputs": [],
   "source": [
    "no_of_nodes = df.shape[0]"
   ]
  },
  {
   "cell_type": "code",
   "execution_count": 13,
   "id": "6d565376",
   "metadata": {},
   "outputs": [],
   "source": [
    "# create a graph object\n",
    "G = nx.Graph()\n",
    "\n",
    "# add a node with index `nodeidx` to the graph object `G`\n",
    "for nodeidx in range(no_of_nodes):\n",
    "    # read in identifier of individual from list `uniquepart` and store in variable personid\n",
    "    personid = uniquepart[nodeidx]\n",
    "    \n",
    "    # create dataframe dmydf by selecting all rows from dataframe `df` with attribute `ID` equal to `personid`\n",
    "    dmydf = pd.DataFrame(df.loc[df['IDcol'] == personid].copy())\n",
    "    \n",
    "    # reset index of dataframe dmydf\n",
    "    dmydf.reset_index(drop=True, inplace=True) \n",
    "    \n",
    "    # read in latitude of first location recording in `dmydf` and store in variable `latitude`\n",
    "    latitude=dmydf.loc[0,['Lat']][0]\n",
    "    \n",
    "    # read in longitude of first location recording in `dmydf` and store in variable `longitude`\n",
    "    longitude=dmydf.loc[0,['Lon']][0]\n",
    "    \n",
    "    # read in Covid19 infection status of first location recording in `dmydf` and store in variable `valtmp`\n",
    "    valtmp=dmydf.loc[0,['Covid19']][0]\n",
    "    \n",
    "    # use le.transform() to map the infection status `valtmp` as `y`->1 and `n`-> 0\n",
    "    infected=dmydf[[\"Covid19\"]].apply(le.fit_transform)\n",
    "    \n",
    "    # read in the date of the recording and store in variable date_tmp\n",
    "    date_tmp = dt.datetime.strptime(dmydf.loc[0,['Date']][0], '%d-%m-%Y').date() \n",
    "    \n",
    "    # read in the time of the recording and store in variable time_tmp\n",
    "    time_tmp = dt.datetime.strptime(dmydf.loc[0,['Time']][0], '%H:%M:%S').time()\n",
    "    \n",
    "    # combine date and time of location recording using `datetime.combine()\n",
    "    mydatetime = dt.datetime.combine(date_tmp, time_tmp)\n",
    "    G.add_node(nodeidx)\n",
    "#     G.nodes[nodeidx][\"name\"] = df.loc[nodeidx, \"IDcol\"]\n",
    "#     G.nodes[nodeidx][\"coords\"] = np.array([df.loc[nodeidx, \"Lat\"], df.loc[nodeidx, \"Lon\"]])\n",
    "#     G.nodes[nodeidx][\"timestamp\"] = df.loc[nodeidx, \"Date\"]\n",
    "    G.nodes[nodeidx][\"Rate\"] = df.loc[nodeidx, \"Covid19\"]\n",
    "    \n",
    "    # for node with index `nodeidx`, add attribute \"coords\" with value being a numpy \n",
    "    #    array of length 2 with elements latitude and longitude\n",
    "    G.nodes[nodeidx]['coords']= np.array([latitude,longitude])\n",
    "    # for node with index `nodeidx`, add attribute \"timestamp\" with value given by variable \"mydatetime\"  \n",
    "    G.nodes[nodeidx]['timestamp'] = mydatetime"
   ]
  },
  {
   "cell_type": "code",
   "execution_count": 14,
   "id": "bfaeac82",
   "metadata": {},
   "outputs": [
    {
     "data": {
      "text/plain": [
       "NodeDataView({0: {'Rate': 0, 'coords': array([60.18539, 25.00969], dtype=float32), 'timestamp': datetime.datetime(2021, 6, 9, 13, 52, 9)}, 1: {'Rate': 0, 'coords': array([60.185387, 25.009678], dtype=float32), 'timestamp': datetime.datetime(2021, 6, 9, 13, 52, 9)}, 2: {'Rate': 0, 'coords': array([60.18539 , 25.009695], dtype=float32), 'timestamp': datetime.datetime(2021, 6, 9, 13, 52, 9)}, 3: {'Rate': 1, 'coords': array([60.18539, 25.00969], dtype=float32), 'timestamp': datetime.datetime(2021, 6, 9, 13, 52, 9)}, 4: {'Rate': 0, 'coords': array([60.185387, 25.009672], dtype=float32), 'timestamp': datetime.datetime(2021, 6, 9, 13, 52, 9)}, 5: {'Rate': 0, 'coords': array([60.185394, 25.009706], dtype=float32), 'timestamp': datetime.datetime(2021, 6, 9, 13, 52, 9)}, 6: {'Rate': 1, 'coords': array([60.185383, 25.009668], dtype=float32), 'timestamp': datetime.datetime(2021, 6, 9, 13, 52, 9)}, 7: {'Rate': 0, 'coords': array([60.185387, 25.009686], dtype=float32), 'timestamp': datetime.datetime(2021, 6, 9, 13, 52, 9)}, 8: {'Rate': 0, 'coords': array([60.18538 , 25.009634], dtype=float32), 'timestamp': datetime.datetime(2021, 6, 9, 13, 52, 9)}, 9: {'Rate': 0, 'coords': array([60.185387, 25.009678], dtype=float32), 'timestamp': datetime.datetime(2021, 6, 9, 13, 52, 9)}, 10: {'Rate': 0, 'coords': array([60.185387, 25.009684], dtype=float32), 'timestamp': datetime.datetime(2021, 6, 9, 13, 52, 9)}, 11: {'Rate': 0, 'coords': array([60.185387, 25.009684], dtype=float32), 'timestamp': datetime.datetime(2021, 6, 9, 13, 52, 9)}, 12: {'Rate': 0, 'coords': array([60.18539 , 25.009691], dtype=float32), 'timestamp': datetime.datetime(2021, 6, 9, 13, 52, 9)}, 13: {'Rate': 1, 'coords': array([60.185387, 25.009678], dtype=float32), 'timestamp': datetime.datetime(2021, 6, 9, 13, 52, 9)}, 14: {'Rate': 1, 'coords': array([60.18539 , 25.009695], dtype=float32), 'timestamp': datetime.datetime(2021, 6, 9, 13, 52, 9)}, 15: {'Rate': 0, 'coords': array([60.185387, 25.009676], dtype=float32), 'timestamp': datetime.datetime(2021, 6, 9, 13, 52, 9)}, 16: {'Rate': 0, 'coords': array([60.185387, 25.00968 ], dtype=float32), 'timestamp': datetime.datetime(2021, 6, 9, 13, 52, 9)}, 17: {'Rate': 0, 'coords': array([60.18539 , 25.009695], dtype=float32), 'timestamp': datetime.datetime(2021, 6, 9, 13, 52, 9)}, 18: {'Rate': 1, 'coords': array([60.185387, 25.00967 ], dtype=float32), 'timestamp': datetime.datetime(2021, 6, 9, 13, 52, 9)}, 19: {'Rate': 0, 'coords': array([60.185394, 25.009714], dtype=float32), 'timestamp': datetime.datetime(2021, 6, 9, 13, 52, 9)}, 20: {'Rate': 0, 'coords': array([60.18539, 25.00969], dtype=float32), 'timestamp': datetime.datetime(2021, 6, 9, 13, 52, 9)}, 21: {'Rate': 0, 'coords': array([60.18539 , 25.009697], dtype=float32), 'timestamp': datetime.datetime(2021, 6, 9, 13, 52, 9)}, 22: {'Rate': 0, 'coords': array([60.18539 , 25.009697], dtype=float32), 'timestamp': datetime.datetime(2021, 6, 9, 13, 52, 9)}, 23: {'Rate': 0, 'coords': array([60.185387, 25.009676], dtype=float32), 'timestamp': datetime.datetime(2021, 6, 9, 13, 52, 9)}, 24: {'Rate': 1, 'coords': array([60.185383, 25.009668], dtype=float32), 'timestamp': datetime.datetime(2021, 6, 9, 13, 52, 9)}, 25: {'Rate': 1, 'coords': array([60.18539 , 25.009691], dtype=float32), 'timestamp': datetime.datetime(2021, 6, 9, 13, 52, 9)}, 26: {'Rate': 0, 'coords': array([60.185387, 25.00968 ], dtype=float32), 'timestamp': datetime.datetime(2021, 6, 9, 13, 52, 9)}, 27: {'Rate': 1, 'coords': array([60.185394, 25.00972 ], dtype=float32), 'timestamp': datetime.datetime(2021, 6, 9, 13, 52, 9)}, 28: {'Rate': 1, 'coords': array([60.185387, 25.009686], dtype=float32), 'timestamp': datetime.datetime(2021, 6, 9, 13, 52, 9)}, 29: {'Rate': 0, 'coords': array([60.185387, 25.009687], dtype=float32), 'timestamp': datetime.datetime(2021, 6, 9, 13, 52, 9)}, 30: {'Rate': 0, 'coords': array([60.185387, 25.009687], dtype=float32), 'timestamp': datetime.datetime(2021, 6, 9, 13, 52, 9)}, 31: {'Rate': 1, 'coords': array([60.18539 , 25.009705], dtype=float32), 'timestamp': datetime.datetime(2021, 6, 9, 13, 52, 9)}, 32: {'Rate': 1, 'coords': array([60.18539 , 25.009695], dtype=float32), 'timestamp': datetime.datetime(2021, 6, 9, 13, 52, 9)}, 33: {'Rate': 0, 'coords': array([60.185394, 25.00971 ], dtype=float32), 'timestamp': datetime.datetime(2021, 6, 9, 13, 52, 9)}, 34: {'Rate': 0, 'coords': array([60.185387, 25.009682], dtype=float32), 'timestamp': datetime.datetime(2021, 6, 9, 13, 52, 9)}, 35: {'Rate': 0, 'coords': array([60.18539 , 25.009693], dtype=float32), 'timestamp': datetime.datetime(2021, 6, 9, 13, 52, 9)}, 36: {'Rate': 0, 'coords': array([60.18539 , 25.009695], dtype=float32), 'timestamp': datetime.datetime(2021, 6, 9, 13, 52, 9)}, 37: {'Rate': 1, 'coords': array([60.185387, 25.009687], dtype=float32), 'timestamp': datetime.datetime(2021, 6, 9, 13, 52, 9)}, 38: {'Rate': 0, 'coords': array([60.185383, 25.009659], dtype=float32), 'timestamp': datetime.datetime(2021, 6, 9, 13, 52, 9)}, 39: {'Rate': 0, 'coords': array([60.18539 , 25.009695], dtype=float32), 'timestamp': datetime.datetime(2021, 6, 9, 13, 52, 9)}, 40: {'Rate': 0, 'coords': array([60.185383, 25.009665], dtype=float32), 'timestamp': datetime.datetime(2021, 6, 9, 13, 52, 9)}, 41: {'Rate': 0, 'coords': array([60.185383, 25.00966 ], dtype=float32), 'timestamp': datetime.datetime(2021, 6, 9, 13, 52, 9)}, 42: {'Rate': 0, 'coords': array([60.185383, 25.00967 ], dtype=float32), 'timestamp': datetime.datetime(2021, 6, 9, 13, 52, 9)}, 43: {'Rate': 0, 'coords': array([60.185383, 25.009666], dtype=float32), 'timestamp': datetime.datetime(2021, 6, 9, 13, 52, 9)}, 44: {'Rate': 0, 'coords': array([60.185387, 25.00967 ], dtype=float32), 'timestamp': datetime.datetime(2021, 6, 9, 13, 52, 9)}, 45: {'Rate': 0, 'coords': array([60.185383, 25.009653], dtype=float32), 'timestamp': datetime.datetime(2021, 6, 9, 13, 52, 9)}, 46: {'Rate': 1, 'coords': array([60.185387, 25.009687], dtype=float32), 'timestamp': datetime.datetime(2021, 6, 9, 13, 52, 9)}, 47: {'Rate': 0, 'coords': array([60.18539, 25.0097 ], dtype=float32), 'timestamp': datetime.datetime(2021, 6, 9, 13, 52, 9)}, 48: {'Rate': 0, 'coords': array([60.185394, 25.009706], dtype=float32), 'timestamp': datetime.datetime(2021, 6, 9, 13, 52, 9)}, 49: {'Rate': 0, 'coords': array([60.185387, 25.009686], dtype=float32), 'timestamp': datetime.datetime(2021, 6, 9, 13, 52, 9)}, 50: {'Rate': 0, 'coords': array([60.185387, 25.009684], dtype=float32), 'timestamp': datetime.datetime(2021, 6, 9, 13, 52, 9)}, 51: {'Rate': 0, 'coords': array([60.185383, 25.009657], dtype=float32), 'timestamp': datetime.datetime(2021, 6, 9, 13, 52, 9)}, 52: {'Rate': 1, 'coords': array([60.18539 , 25.009705], dtype=float32), 'timestamp': datetime.datetime(2021, 6, 9, 13, 52, 9)}, 53: {'Rate': 0, 'coords': array([60.185387, 25.009687], dtype=float32), 'timestamp': datetime.datetime(2021, 6, 9, 13, 52, 9)}, 54: {'Rate': 0, 'coords': array([60.185383, 25.00967 ], dtype=float32), 'timestamp': datetime.datetime(2021, 6, 9, 13, 52, 9)}, 55: {'Rate': 0, 'coords': array([60.185387, 25.009682], dtype=float32), 'timestamp': datetime.datetime(2021, 6, 9, 13, 52, 9)}, 56: {'Rate': 0, 'coords': array([60.185387, 25.00967 ], dtype=float32), 'timestamp': datetime.datetime(2021, 6, 9, 13, 52, 9)}, 57: {'Rate': 0, 'coords': array([60.185387, 25.00967 ], dtype=float32), 'timestamp': datetime.datetime(2021, 6, 9, 13, 52, 9)}, 58: {'Rate': 0, 'coords': array([60.185387, 25.009674], dtype=float32), 'timestamp': datetime.datetime(2021, 6, 9, 13, 52, 9)}, 59: {'Rate': 0, 'coords': array([60.185394, 25.00971 ], dtype=float32), 'timestamp': datetime.datetime(2021, 6, 9, 13, 52, 9)}, 60: {'Rate': 1, 'coords': array([60.185387, 25.009674], dtype=float32), 'timestamp': datetime.datetime(2021, 6, 9, 13, 52, 9)}, 61: {'Rate': 0, 'coords': array([60.185387, 25.00968 ], dtype=float32), 'timestamp': datetime.datetime(2021, 6, 9, 13, 52, 9)}, 62: {'Rate': 0, 'coords': array([60.185383, 25.009657], dtype=float32), 'timestamp': datetime.datetime(2021, 6, 9, 13, 52, 9)}, 63: {'Rate': 0, 'coords': array([60.185383, 25.009663], dtype=float32), 'timestamp': datetime.datetime(2021, 6, 9, 13, 52, 9)}, 64: {'Rate': 1, 'coords': array([60.18539 , 25.009699], dtype=float32), 'timestamp': datetime.datetime(2021, 6, 9, 13, 52, 9)}, 65: {'Rate': 1, 'coords': array([60.185394, 25.009706], dtype=float32), 'timestamp': datetime.datetime(2021, 6, 9, 13, 52, 9)}, 66: {'Rate': 0, 'coords': array([60.185387, 25.00968 ], dtype=float32), 'timestamp': datetime.datetime(2021, 6, 9, 13, 52, 9)}, 67: {'Rate': 1, 'coords': array([60.18539 , 25.009695], dtype=float32), 'timestamp': datetime.datetime(2021, 6, 9, 13, 52, 9)}, 68: {'Rate': 1, 'coords': array([60.18539, 25.00969], dtype=float32), 'timestamp': datetime.datetime(2021, 6, 9, 13, 52, 9)}, 69: {'Rate': 0, 'coords': array([60.185394, 25.009706], dtype=float32), 'timestamp': datetime.datetime(2021, 6, 9, 13, 52, 9)}, 70: {'Rate': 1, 'coords': array([60.185387, 25.009674], dtype=float32), 'timestamp': datetime.datetime(2021, 6, 9, 13, 52, 9)}, 71: {'Rate': 0, 'coords': array([60.18539 , 25.009695], dtype=float32), 'timestamp': datetime.datetime(2021, 6, 9, 13, 52, 9)}, 72: {'Rate': 1, 'coords': array([60.18539 , 25.009705], dtype=float32), 'timestamp': datetime.datetime(2021, 6, 9, 13, 52, 9)}, 73: {'Rate': 0, 'coords': array([60.185387, 25.009678], dtype=float32), 'timestamp': datetime.datetime(2021, 6, 9, 13, 52, 9)}, 74: {'Rate': 0, 'coords': array([60.18539 , 25.009695], dtype=float32), 'timestamp': datetime.datetime(2021, 6, 9, 13, 52, 9)}, 75: {'Rate': 1, 'coords': array([60.185387, 25.009684], dtype=float32), 'timestamp': datetime.datetime(2021, 6, 9, 13, 52, 9)}, 76: {'Rate': 0, 'coords': array([60.185387, 25.00968 ], dtype=float32), 'timestamp': datetime.datetime(2021, 6, 9, 13, 52, 9)}, 77: {'Rate': 1, 'coords': array([60.185387, 25.00968 ], dtype=float32), 'timestamp': datetime.datetime(2021, 6, 9, 13, 52, 9)}, 78: {'Rate': 0, 'coords': array([60.18539 , 25.009703], dtype=float32), 'timestamp': datetime.datetime(2021, 6, 9, 13, 52, 9)}, 79: {'Rate': 0, 'coords': array([60.185387, 25.009686], dtype=float32), 'timestamp': datetime.datetime(2021, 6, 9, 13, 52, 9)}, 80: {'Rate': 0, 'coords': array([60.18539 , 25.009693], dtype=float32), 'timestamp': datetime.datetime(2021, 6, 9, 13, 52, 9)}, 81: {'Rate': 1, 'coords': array([60.185387, 25.009676], dtype=float32), 'timestamp': datetime.datetime(2021, 6, 9, 13, 52, 9)}, 82: {'Rate': 0, 'coords': array([60.185387, 25.009678], dtype=float32), 'timestamp': datetime.datetime(2021, 6, 9, 13, 52, 9)}, 83: {'Rate': 1, 'coords': array([60.18539, 25.00969], dtype=float32), 'timestamp': datetime.datetime(2021, 6, 9, 13, 52, 9)}, 84: {'Rate': 0, 'coords': array([60.185387, 25.00968 ], dtype=float32), 'timestamp': datetime.datetime(2021, 6, 9, 13, 52, 9)}, 85: {'Rate': 0, 'coords': array([60.185383, 25.009665], dtype=float32), 'timestamp': datetime.datetime(2021, 6, 9, 13, 52, 9)}, 86: {'Rate': 1, 'coords': array([60.185387, 25.00968 ], dtype=float32), 'timestamp': datetime.datetime(2021, 6, 9, 13, 52, 9)}, 87: {'Rate': 1, 'coords': array([60.185383, 25.009668], dtype=float32), 'timestamp': datetime.datetime(2021, 6, 9, 13, 52, 9)}, 88: {'Rate': 0, 'coords': array([60.185387, 25.009682], dtype=float32), 'timestamp': datetime.datetime(2021, 6, 9, 13, 52, 9)}, 89: {'Rate': 0, 'coords': array([60.185387, 25.00967 ], dtype=float32), 'timestamp': datetime.datetime(2021, 6, 9, 13, 52, 9)}, 90: {'Rate': 0, 'coords': array([60.18539, 25.00969], dtype=float32), 'timestamp': datetime.datetime(2021, 6, 9, 13, 52, 9)}, 91: {'Rate': 0, 'coords': array([60.185387, 25.009684], dtype=float32), 'timestamp': datetime.datetime(2021, 6, 9, 13, 52, 9)}, 92: {'Rate': 1, 'coords': array([60.185387, 25.009676], dtype=float32), 'timestamp': datetime.datetime(2021, 6, 9, 13, 52, 9)}, 93: {'Rate': 0, 'coords': array([60.185387, 25.009674], dtype=float32), 'timestamp': datetime.datetime(2021, 6, 9, 13, 52, 9)}, 94: {'Rate': 1, 'coords': array([60.185387, 25.009686], dtype=float32), 'timestamp': datetime.datetime(2021, 6, 9, 13, 52, 9)}, 95: {'Rate': 0, 'coords': array([60.18539 , 25.009697], dtype=float32), 'timestamp': datetime.datetime(2021, 6, 9, 13, 52, 9)}, 96: {'Rate': 0, 'coords': array([60.18539 , 25.009693], dtype=float32), 'timestamp': datetime.datetime(2021, 6, 9, 13, 52, 9)}, 97: {'Rate': 1, 'coords': array([60.185387, 25.009684], dtype=float32), 'timestamp': datetime.datetime(2021, 6, 9, 13, 52, 9)}, 98: {'Rate': 0, 'coords': array([60.185387, 25.009687], dtype=float32), 'timestamp': datetime.datetime(2021, 6, 9, 13, 52, 9)}, 99: {'Rate': 0, 'coords': array([60.18539 , 25.009693], dtype=float32), 'timestamp': datetime.datetime(2021, 6, 9, 13, 52, 9)}, 100: {'Rate': 1, 'coords': array([60.168537, 24.930498], dtype=float32), 'timestamp': datetime.datetime(2021, 6, 9, 13, 52, 9)}, 101: {'Rate': 1, 'coords': array([60.168533, 24.930489], dtype=float32), 'timestamp': datetime.datetime(2021, 6, 9, 13, 52, 9)}, 102: {'Rate': 0, 'coords': array([60.168537, 24.930506], dtype=float32), 'timestamp': datetime.datetime(2021, 6, 9, 13, 52, 9)}, 103: {'Rate': 0, 'coords': array([60.168537, 24.9305  ], dtype=float32), 'timestamp': datetime.datetime(2021, 6, 9, 13, 52, 9)}, 104: {'Rate': 0, 'coords': array([60.168533, 24.930481], dtype=float32), 'timestamp': datetime.datetime(2021, 6, 9, 13, 52, 9)}, 105: {'Rate': 1, 'coords': array([60.16854 , 24.930517], dtype=float32), 'timestamp': datetime.datetime(2021, 6, 9, 13, 52, 9)}, 106: {'Rate': 0, 'coords': array([60.16853 , 24.930477], dtype=float32), 'timestamp': datetime.datetime(2021, 6, 9, 13, 52, 9)}, 107: {'Rate': 0, 'coords': array([60.168533, 24.930496], dtype=float32), 'timestamp': datetime.datetime(2021, 6, 9, 13, 52, 9)}, 108: {'Rate': 0, 'coords': array([60.168526, 24.930445], dtype=float32), 'timestamp': datetime.datetime(2021, 6, 9, 13, 52, 9)}, 109: {'Rate': 0, 'coords': array([60.168533, 24.930487], dtype=float32), 'timestamp': datetime.datetime(2021, 6, 9, 13, 52, 9)}, 110: {'Rate': 0, 'coords': array([60.168533, 24.930492], dtype=float32), 'timestamp': datetime.datetime(2021, 6, 9, 13, 52, 9)}, 111: {'Rate': 0, 'coords': array([60.168533, 24.930494], dtype=float32), 'timestamp': datetime.datetime(2021, 6, 9, 13, 52, 9)}, 112: {'Rate': 0, 'coords': array([60.168537, 24.9305  ], dtype=float32), 'timestamp': datetime.datetime(2021, 6, 9, 13, 52, 9)}, 113: {'Rate': 0, 'coords': array([60.168533, 24.930489], dtype=float32), 'timestamp': datetime.datetime(2021, 6, 9, 13, 52, 9)}, 114: {'Rate': 1, 'coords': array([60.168537, 24.930506], dtype=float32), 'timestamp': datetime.datetime(2021, 6, 9, 13, 52, 9)}, 115: {'Rate': 0, 'coords': array([60.168533, 24.930485], dtype=float32), 'timestamp': datetime.datetime(2021, 6, 9, 13, 52, 9)}, 116: {'Rate': 1, 'coords': array([60.168533, 24.930489], dtype=float32), 'timestamp': datetime.datetime(2021, 6, 9, 13, 52, 9)}, 117: {'Rate': 0, 'coords': array([60.168537, 24.930504], dtype=float32), 'timestamp': datetime.datetime(2021, 6, 9, 13, 52, 9)}, 118: {'Rate': 1, 'coords': array([60.168533, 24.93048 ], dtype=float32), 'timestamp': datetime.datetime(2021, 6, 9, 13, 52, 9)}, 119: {'Rate': 0, 'coords': array([60.16854 , 24.930523], dtype=float32), 'timestamp': datetime.datetime(2021, 6, 9, 13, 52, 9)}, 120: {'Rate': 0, 'coords': array([60.168537, 24.930498], dtype=float32), 'timestamp': datetime.datetime(2021, 6, 9, 13, 52, 9)}, 121: {'Rate': 0, 'coords': array([60.168537, 24.930506], dtype=float32), 'timestamp': datetime.datetime(2021, 6, 9, 13, 52, 9)}, 122: {'Rate': 1, 'coords': array([60.168537, 24.930508], dtype=float32), 'timestamp': datetime.datetime(2021, 6, 9, 13, 52, 9)}, 123: {'Rate': 1, 'coords': array([60.168533, 24.930485], dtype=float32), 'timestamp': datetime.datetime(2021, 6, 9, 13, 52, 9)}, 124: {'Rate': 0, 'coords': array([60.16853, 24.93048], dtype=float32), 'timestamp': datetime.datetime(2021, 6, 9, 13, 52, 9)}, 125: {'Rate': 0, 'coords': array([60.168537, 24.930502], dtype=float32), 'timestamp': datetime.datetime(2021, 6, 9, 13, 52, 9)}, 126: {'Rate': 1, 'coords': array([60.168533, 24.930489], dtype=float32), 'timestamp': datetime.datetime(2021, 6, 9, 13, 52, 9)}, 127: {'Rate': 0, 'coords': array([60.16854, 24.93053], dtype=float32), 'timestamp': datetime.datetime(2021, 6, 9, 13, 52, 9)}, 128: {'Rate': 0, 'coords': array([60.168533, 24.930496], dtype=float32), 'timestamp': datetime.datetime(2021, 6, 9, 13, 52, 9)}, 129: {'Rate': 0, 'coords': array([60.168533, 24.930496], dtype=float32), 'timestamp': datetime.datetime(2021, 6, 9, 13, 52, 9)}, 130: {'Rate': 0, 'coords': array([60.168537, 24.930496], dtype=float32), 'timestamp': datetime.datetime(2021, 6, 9, 13, 52, 9)}, 131: {'Rate': 0, 'coords': array([60.16854 , 24.930515], dtype=float32), 'timestamp': datetime.datetime(2021, 6, 9, 13, 52, 9)}, 132: {'Rate': 1, 'coords': array([60.168537, 24.930504], dtype=float32), 'timestamp': datetime.datetime(2021, 6, 9, 13, 52, 9)}, 133: {'Rate': 0, 'coords': array([60.16854, 24.93052], dtype=float32), 'timestamp': datetime.datetime(2021, 6, 9, 13, 52, 9)}, 134: {'Rate': 1, 'coords': array([60.168533, 24.930492], dtype=float32), 'timestamp': datetime.datetime(2021, 6, 9, 13, 52, 9)}, 135: {'Rate': 1, 'coords': array([60.168537, 24.930504], dtype=float32), 'timestamp': datetime.datetime(2021, 6, 9, 13, 52, 9)}, 136: {'Rate': 1, 'coords': array([60.168537, 24.930504], dtype=float32), 'timestamp': datetime.datetime(2021, 6, 9, 13, 52, 9)}, 137: {'Rate': 1, 'coords': array([60.168533, 24.930496], dtype=float32), 'timestamp': datetime.datetime(2021, 6, 9, 13, 52, 9)}, 138: {'Rate': 0, 'coords': array([60.16853, 24.93047], dtype=float32), 'timestamp': datetime.datetime(2021, 6, 9, 13, 52, 9)}, 139: {'Rate': 1, 'coords': array([60.168537, 24.930504], dtype=float32), 'timestamp': datetime.datetime(2021, 6, 9, 13, 52, 9)}, 140: {'Rate': 0, 'coords': array([60.16853 , 24.930475], dtype=float32), 'timestamp': datetime.datetime(2021, 6, 9, 13, 52, 9)}, 141: {'Rate': 0, 'coords': array([60.16853 , 24.930471], dtype=float32), 'timestamp': datetime.datetime(2021, 6, 9, 13, 52, 9)}, 142: {'Rate': 0, 'coords': array([60.168533, 24.93048 ], dtype=float32), 'timestamp': datetime.datetime(2021, 6, 9, 13, 52, 9)}, 143: {'Rate': 1, 'coords': array([60.16853 , 24.930475], dtype=float32), 'timestamp': datetime.datetime(2021, 6, 9, 13, 52, 9)}, 144: {'Rate': 1, 'coords': array([60.168533, 24.93048 ], dtype=float32), 'timestamp': datetime.datetime(2021, 6, 9, 13, 52, 9)}, 145: {'Rate': 0, 'coords': array([60.16853 , 24.930464], dtype=float32), 'timestamp': datetime.datetime(2021, 6, 9, 13, 52, 9)}, 146: {'Rate': 1, 'coords': array([60.168537, 24.930496], dtype=float32), 'timestamp': datetime.datetime(2021, 6, 9, 13, 52, 9)}, 147: {'Rate': 0, 'coords': array([60.168537, 24.93051 ], dtype=float32), 'timestamp': datetime.datetime(2021, 6, 9, 13, 52, 9)}, 148: {'Rate': 0, 'coords': array([60.16854 , 24.930515], dtype=float32), 'timestamp': datetime.datetime(2021, 6, 9, 13, 52, 9)}, 149: {'Rate': 0, 'coords': array([60.168533, 24.930494], dtype=float32), 'timestamp': datetime.datetime(2021, 6, 9, 13, 52, 9)}, 150: {'Rate': 1, 'coords': array([60.168533, 24.930494], dtype=float32), 'timestamp': datetime.datetime(2021, 6, 9, 13, 52, 9)}, 151: {'Rate': 0, 'coords': array([60.16853 , 24.930466], dtype=float32), 'timestamp': datetime.datetime(2021, 6, 9, 13, 52, 9)}, 152: {'Rate': 0, 'coords': array([60.168537, 24.930513], dtype=float32), 'timestamp': datetime.datetime(2021, 6, 9, 13, 52, 9)}, 153: {'Rate': 0, 'coords': array([60.168537, 24.930496], dtype=float32), 'timestamp': datetime.datetime(2021, 6, 9, 13, 52, 9)}, 154: {'Rate': 1, 'coords': array([60.168533, 24.93048 ], dtype=float32), 'timestamp': datetime.datetime(2021, 6, 9, 13, 52, 9)}, 155: {'Rate': 1, 'coords': array([60.168533, 24.93049 ], dtype=float32), 'timestamp': datetime.datetime(2021, 6, 9, 13, 52, 9)}, 156: {'Rate': 0, 'coords': array([60.168533, 24.93048 ], dtype=float32), 'timestamp': datetime.datetime(2021, 6, 9, 13, 52, 9)}, 157: {'Rate': 0, 'coords': array([60.168533, 24.930481], dtype=float32), 'timestamp': datetime.datetime(2021, 6, 9, 13, 52, 9)}, 158: {'Rate': 0, 'coords': array([60.168533, 24.930485], dtype=float32), 'timestamp': datetime.datetime(2021, 6, 9, 13, 52, 9)}, 159: {'Rate': 1, 'coords': array([60.16854 , 24.930521], dtype=float32), 'timestamp': datetime.datetime(2021, 6, 9, 13, 52, 9)}, 160: {'Rate': 0, 'coords': array([60.168533, 24.930483], dtype=float32), 'timestamp': datetime.datetime(2021, 6, 9, 13, 52, 9)}, 161: {'Rate': 0, 'coords': array([60.168533, 24.930489], dtype=float32), 'timestamp': datetime.datetime(2021, 6, 9, 13, 52, 9)}, 162: {'Rate': 1, 'coords': array([60.16853 , 24.930466], dtype=float32), 'timestamp': datetime.datetime(2021, 6, 9, 13, 52, 9)}, 163: {'Rate': 0, 'coords': array([60.16853 , 24.930473], dtype=float32), 'timestamp': datetime.datetime(2021, 6, 9, 13, 52, 9)}, 164: {'Rate': 0, 'coords': array([60.168537, 24.930508], dtype=float32), 'timestamp': datetime.datetime(2021, 6, 9, 13, 52, 9)}, 165: {'Rate': 0, 'coords': array([60.16854 , 24.930515], dtype=float32), 'timestamp': datetime.datetime(2021, 6, 9, 13, 52, 9)}, 166: {'Rate': 0, 'coords': array([60.168533, 24.93049 ], dtype=float32), 'timestamp': datetime.datetime(2021, 6, 9, 13, 52, 9)}, 167: {'Rate': 0, 'coords': array([60.168537, 24.930506], dtype=float32), 'timestamp': datetime.datetime(2021, 6, 9, 13, 52, 9)}, 168: {'Rate': 1, 'coords': array([60.168537, 24.930498], dtype=float32), 'timestamp': datetime.datetime(2021, 6, 9, 13, 52, 9)}, 169: {'Rate': 0, 'coords': array([60.16854 , 24.930515], dtype=float32), 'timestamp': datetime.datetime(2021, 6, 9, 13, 52, 9)}, 170: {'Rate': 1, 'coords': array([60.168533, 24.930483], dtype=float32), 'timestamp': datetime.datetime(2021, 6, 9, 13, 52, 9)}, 171: {'Rate': 1, 'coords': array([60.168537, 24.930506], dtype=float32), 'timestamp': datetime.datetime(2021, 6, 9, 13, 52, 9)}, 172: {'Rate': 1, 'coords': array([60.168537, 24.930513], dtype=float32), 'timestamp': datetime.datetime(2021, 6, 9, 13, 52, 9)}, 173: {'Rate': 0, 'coords': array([60.168533, 24.930489], dtype=float32), 'timestamp': datetime.datetime(2021, 6, 9, 13, 52, 9)}, 174: {'Rate': 0, 'coords': array([60.168537, 24.930506], dtype=float32), 'timestamp': datetime.datetime(2021, 6, 9, 13, 52, 9)}, 175: {'Rate': 1, 'coords': array([60.168533, 24.930492], dtype=float32), 'timestamp': datetime.datetime(2021, 6, 9, 13, 52, 9)}, 176: {'Rate': 1, 'coords': array([60.168533, 24.930489], dtype=float32), 'timestamp': datetime.datetime(2021, 6, 9, 13, 52, 9)}, 177: {'Rate': 1, 'coords': array([60.168533, 24.930489], dtype=float32), 'timestamp': datetime.datetime(2021, 6, 9, 13, 52, 9)}, 178: {'Rate': 1, 'coords': array([60.168537, 24.930511], dtype=float32), 'timestamp': datetime.datetime(2021, 6, 9, 13, 52, 9)}, 179: {'Rate': 1, 'coords': array([60.168533, 24.930496], dtype=float32), 'timestamp': datetime.datetime(2021, 6, 9, 13, 52, 9)}, 180: {'Rate': 0, 'coords': array([60.168537, 24.930504], dtype=float32), 'timestamp': datetime.datetime(2021, 6, 9, 13, 52, 9)}, 181: {'Rate': 1, 'coords': array([60.168533, 24.930487], dtype=float32), 'timestamp': datetime.datetime(2021, 6, 9, 13, 52, 9)}, 182: {'Rate': 0, 'coords': array([60.168533, 24.930489], dtype=float32), 'timestamp': datetime.datetime(2021, 6, 9, 13, 52, 9)}, 183: {'Rate': 0, 'coords': array([60.168537, 24.930498], dtype=float32), 'timestamp': datetime.datetime(2021, 6, 9, 13, 52, 9)}, 184: {'Rate': 1, 'coords': array([60.168533, 24.930489], dtype=float32), 'timestamp': datetime.datetime(2021, 6, 9, 13, 52, 9)}, 185: {'Rate': 0, 'coords': array([60.16853 , 24.930473], dtype=float32), 'timestamp': datetime.datetime(2021, 6, 9, 13, 52, 9)}, 186: {'Rate': 0, 'coords': array([60.168533, 24.930489], dtype=float32), 'timestamp': datetime.datetime(2021, 6, 9, 13, 52, 9)}, 187: {'Rate': 1, 'coords': array([60.168533, 24.93048 ], dtype=float32), 'timestamp': datetime.datetime(2021, 6, 9, 13, 52, 9)}, 188: {'Rate': 1, 'coords': array([60.168533, 24.930492], dtype=float32), 'timestamp': datetime.datetime(2021, 6, 9, 13, 52, 9)}, 189: {'Rate': 0, 'coords': array([60.168533, 24.93048 ], dtype=float32), 'timestamp': datetime.datetime(2021, 6, 9, 13, 52, 9)}, 190: {'Rate': 1, 'coords': array([60.168537, 24.930498], dtype=float32), 'timestamp': datetime.datetime(2021, 6, 9, 13, 52, 9)}, 191: {'Rate': 0, 'coords': array([60.168533, 24.930492], dtype=float32), 'timestamp': datetime.datetime(2021, 6, 9, 13, 52, 9)}, 192: {'Rate': 0, 'coords': array([60.168533, 24.930485], dtype=float32), 'timestamp': datetime.datetime(2021, 6, 9, 13, 52, 9)}, 193: {'Rate': 0, 'coords': array([60.168533, 24.930485], dtype=float32), 'timestamp': datetime.datetime(2021, 6, 9, 13, 52, 9)}, 194: {'Rate': 0, 'coords': array([60.168533, 24.930494], dtype=float32), 'timestamp': datetime.datetime(2021, 6, 9, 13, 52, 9)}, 195: {'Rate': 0, 'coords': array([60.168537, 24.930508], dtype=float32), 'timestamp': datetime.datetime(2021, 6, 9, 13, 52, 9)}, 196: {'Rate': 0, 'coords': array([60.168537, 24.930502], dtype=float32), 'timestamp': datetime.datetime(2021, 6, 9, 13, 52, 9)}, 197: {'Rate': 1, 'coords': array([60.168533, 24.930492], dtype=float32), 'timestamp': datetime.datetime(2021, 6, 9, 13, 52, 9)}, 198: {'Rate': 1, 'coords': array([60.168537, 24.930496], dtype=float32), 'timestamp': datetime.datetime(2021, 6, 9, 13, 52, 9)}, 199: {'Rate': 1, 'coords': array([60.168537, 24.930504], dtype=float32), 'timestamp': datetime.datetime(2021, 6, 9, 13, 52, 9)}, 200: {'Rate': 1, 'coords': array([60.30919 , 25.036457], dtype=float32), 'timestamp': datetime.datetime(2021, 6, 9, 13, 52, 9)}, 201: {'Rate': 1, 'coords': array([60.309185, 25.036448], dtype=float32), 'timestamp': datetime.datetime(2021, 6, 9, 13, 52, 9)}, 202: {'Rate': 1, 'coords': array([60.30919 , 25.036465], dtype=float32), 'timestamp': datetime.datetime(2021, 6, 9, 13, 52, 9)}, 203: {'Rate': 1, 'coords': array([60.30919 , 25.036457], dtype=float32), 'timestamp': datetime.datetime(2021, 6, 9, 13, 52, 9)}, 204: {'Rate': 1, 'coords': array([60.309185, 25.03644 ], dtype=float32), 'timestamp': datetime.datetime(2021, 6, 9, 13, 52, 9)}, 205: {'Rate': 1, 'coords': array([60.309193, 25.036474], dtype=float32), 'timestamp': datetime.datetime(2021, 6, 9, 13, 52, 9)}, 206: {'Rate': 1, 'coords': array([60.309185, 25.036436], dtype=float32), 'timestamp': datetime.datetime(2021, 6, 9, 13, 52, 9)}, 207: {'Rate': 1, 'coords': array([60.30919 , 25.036453], dtype=float32), 'timestamp': datetime.datetime(2021, 6, 9, 13, 52, 9)}, 208: {'Rate': 1, 'coords': array([60.309177, 25.036402], dtype=float32), 'timestamp': datetime.datetime(2021, 6, 9, 13, 52, 9)}, 209: {'Rate': 0, 'coords': array([60.309185, 25.036446], dtype=float32), 'timestamp': datetime.datetime(2021, 6, 9, 13, 52, 9)}, 210: {'Rate': 0, 'coords': array([60.309185, 25.036451], dtype=float32), 'timestamp': datetime.datetime(2021, 6, 9, 13, 52, 9)}, 211: {'Rate': 1, 'coords': array([60.309185, 25.036451], dtype=float32), 'timestamp': datetime.datetime(2021, 6, 9, 13, 52, 9)}, 212: {'Rate': 1, 'coords': array([60.30919 , 25.036459], dtype=float32), 'timestamp': datetime.datetime(2021, 6, 9, 13, 52, 9)}, 213: {'Rate': 0, 'coords': array([60.309185, 25.036446], dtype=float32), 'timestamp': datetime.datetime(2021, 6, 9, 13, 52, 9)}, 214: {'Rate': 1, 'coords': array([60.30919 , 25.036463], dtype=float32), 'timestamp': datetime.datetime(2021, 6, 9, 13, 52, 9)}, 215: {'Rate': 0, 'coords': array([60.309185, 25.036444], dtype=float32), 'timestamp': datetime.datetime(2021, 6, 9, 13, 52, 9)}, 216: {'Rate': 1, 'coords': array([60.309185, 25.036448], dtype=float32), 'timestamp': datetime.datetime(2021, 6, 9, 13, 52, 9)}, 217: {'Rate': 0, 'coords': array([60.30919 , 25.036463], dtype=float32), 'timestamp': datetime.datetime(2021, 6, 9, 13, 52, 9)}, 218: {'Rate': 0, 'coords': array([60.309185, 25.036438], dtype=float32), 'timestamp': datetime.datetime(2021, 6, 9, 13, 52, 9)}, 219: {'Rate': 0, 'coords': array([60.309193, 25.036482], dtype=float32), 'timestamp': datetime.datetime(2021, 6, 9, 13, 52, 9)}, 220: {'Rate': 1, 'coords': array([60.30919 , 25.036457], dtype=float32), 'timestamp': datetime.datetime(2021, 6, 9, 13, 52, 9)}, 221: {'Rate': 1, 'coords': array([60.30919 , 25.036465], dtype=float32), 'timestamp': datetime.datetime(2021, 6, 9, 13, 52, 9)}, 222: {'Rate': 0, 'coords': array([60.30919 , 25.036465], dtype=float32), 'timestamp': datetime.datetime(2021, 6, 9, 13, 52, 9)}, 223: {'Rate': 0, 'coords': array([60.309185, 25.036444], dtype=float32), 'timestamp': datetime.datetime(2021, 6, 9, 13, 52, 9)}, 224: {'Rate': 1, 'coords': array([60.309185, 25.036436], dtype=float32), 'timestamp': datetime.datetime(2021, 6, 9, 13, 52, 9)}, 225: {'Rate': 1, 'coords': array([60.30919 , 25.036459], dtype=float32), 'timestamp': datetime.datetime(2021, 6, 9, 13, 52, 9)}, 226: {'Rate': 0, 'coords': array([60.309185, 25.036448], dtype=float32), 'timestamp': datetime.datetime(2021, 6, 9, 13, 52, 9)}, 227: {'Rate': 1, 'coords': array([60.309196, 25.036488], dtype=float32), 'timestamp': datetime.datetime(2021, 6, 9, 13, 52, 9)}, 228: {'Rate': 1, 'coords': array([60.30919 , 25.036453], dtype=float32), 'timestamp': datetime.datetime(2021, 6, 9, 13, 52, 9)}, 229: {'Rate': 1, 'coords': array([60.30919 , 25.036455], dtype=float32), 'timestamp': datetime.datetime(2021, 6, 9, 13, 52, 9)}, 230: {'Rate': 0, 'coords': array([60.30919 , 25.036455], dtype=float32), 'timestamp': datetime.datetime(2021, 6, 9, 13, 52, 9)}, 231: {'Rate': 1, 'coords': array([60.309193, 25.036472], dtype=float32), 'timestamp': datetime.datetime(2021, 6, 9, 13, 52, 9)}, 232: {'Rate': 0, 'coords': array([60.30919 , 25.036463], dtype=float32), 'timestamp': datetime.datetime(2021, 6, 9, 13, 52, 9)}, 233: {'Rate': 1, 'coords': array([60.309193, 25.036478], dtype=float32), 'timestamp': datetime.datetime(2021, 6, 9, 13, 52, 9)}, 234: {'Rate': 1, 'coords': array([60.309185, 25.03645 ], dtype=float32), 'timestamp': datetime.datetime(2021, 6, 9, 13, 52, 9)}, 235: {'Rate': 1, 'coords': array([60.30919, 25.03646], dtype=float32), 'timestamp': datetime.datetime(2021, 6, 9, 13, 52, 9)}, 236: {'Rate': 1, 'coords': array([60.30919 , 25.036463], dtype=float32), 'timestamp': datetime.datetime(2021, 6, 9, 13, 52, 9)}, 237: {'Rate': 1, 'coords': array([60.30919 , 25.036455], dtype=float32), 'timestamp': datetime.datetime(2021, 6, 9, 13, 52, 9)}, 238: {'Rate': 1, 'coords': array([60.30918 , 25.036427], dtype=float32), 'timestamp': datetime.datetime(2021, 6, 9, 13, 52, 9)}, 239: {'Rate': 0, 'coords': array([60.30919 , 25.036463], dtype=float32), 'timestamp': datetime.datetime(2021, 6, 9, 13, 52, 9)}, 240: {'Rate': 1, 'coords': array([60.30918 , 25.036432], dtype=float32), 'timestamp': datetime.datetime(2021, 6, 9, 13, 52, 9)}, 241: {'Rate': 1, 'coords': array([60.30918 , 25.036428], dtype=float32), 'timestamp': datetime.datetime(2021, 6, 9, 13, 52, 9)}, 242: {'Rate': 0, 'coords': array([60.309185, 25.036438], dtype=float32), 'timestamp': datetime.datetime(2021, 6, 9, 13, 52, 9)}, 243: {'Rate': 1, 'coords': array([60.309185, 25.036434], dtype=float32), 'timestamp': datetime.datetime(2021, 6, 9, 13, 52, 9)}, 244: {'Rate': 1, 'coords': array([60.309185, 25.036438], dtype=float32), 'timestamp': datetime.datetime(2021, 6, 9, 13, 52, 9)}, 245: {'Rate': 1, 'coords': array([60.30918, 25.03642], dtype=float32), 'timestamp': datetime.datetime(2021, 6, 9, 13, 52, 9)}, 246: {'Rate': 1, 'coords': array([60.30919 , 25.036455], dtype=float32), 'timestamp': datetime.datetime(2021, 6, 9, 13, 52, 9)}, 247: {'Rate': 0, 'coords': array([60.30919 , 25.036469], dtype=float32), 'timestamp': datetime.datetime(2021, 6, 9, 13, 52, 9)}, 248: {'Rate': 1, 'coords': array([60.309193, 25.036474], dtype=float32), 'timestamp': datetime.datetime(2021, 6, 9, 13, 52, 9)}, 249: {'Rate': 1, 'coords': array([60.30919 , 25.036453], dtype=float32), 'timestamp': datetime.datetime(2021, 6, 9, 13, 52, 9)}, 250: {'Rate': 0, 'coords': array([60.30919 , 25.036451], dtype=float32), 'timestamp': datetime.datetime(2021, 6, 9, 13, 52, 9)}, 251: {'Rate': 1, 'coords': array([60.30918 , 25.036425], dtype=float32), 'timestamp': datetime.datetime(2021, 6, 9, 13, 52, 9)}, 252: {'Rate': 0, 'coords': array([60.309193, 25.036472], dtype=float32), 'timestamp': datetime.datetime(2021, 6, 9, 13, 52, 9)}, 253: {'Rate': 0, 'coords': array([60.30919 , 25.036455], dtype=float32), 'timestamp': datetime.datetime(2021, 6, 9, 13, 52, 9)}, 254: {'Rate': 0, 'coords': array([60.309185, 25.036438], dtype=float32), 'timestamp': datetime.datetime(2021, 6, 9, 13, 52, 9)}, 255: {'Rate': 1, 'coords': array([60.309185, 25.03645 ], dtype=float32), 'timestamp': datetime.datetime(2021, 6, 9, 13, 52, 9)}, 256: {'Rate': 1, 'coords': array([60.309185, 25.036438], dtype=float32), 'timestamp': datetime.datetime(2021, 6, 9, 13, 52, 9)}, 257: {'Rate': 1, 'coords': array([60.309185, 25.03644 ], dtype=float32), 'timestamp': datetime.datetime(2021, 6, 9, 13, 52, 9)}, 258: {'Rate': 1, 'coords': array([60.309185, 25.036442], dtype=float32), 'timestamp': datetime.datetime(2021, 6, 9, 13, 52, 9)}, 259: {'Rate': 1, 'coords': array([60.309193, 25.03648 ], dtype=float32), 'timestamp': datetime.datetime(2021, 6, 9, 13, 52, 9)}, 260: {'Rate': 0, 'coords': array([60.309185, 25.036442], dtype=float32), 'timestamp': datetime.datetime(2021, 6, 9, 13, 52, 9)}, 261: {'Rate': 1, 'coords': array([60.309185, 25.036448], dtype=float32), 'timestamp': datetime.datetime(2021, 6, 9, 13, 52, 9)}, 262: {'Rate': 1, 'coords': array([60.30918 , 25.036425], dtype=float32), 'timestamp': datetime.datetime(2021, 6, 9, 13, 52, 9)}, 263: {'Rate': 0, 'coords': array([60.30918, 25.03643], dtype=float32), 'timestamp': datetime.datetime(2021, 6, 9, 13, 52, 9)}, 264: {'Rate': 1, 'coords': array([60.30919 , 25.036467], dtype=float32), 'timestamp': datetime.datetime(2021, 6, 9, 13, 52, 9)}, 265: {'Rate': 0, 'coords': array([60.309193, 25.036474], dtype=float32), 'timestamp': datetime.datetime(2021, 6, 9, 13, 52, 9)}, 266: {'Rate': 1, 'coords': array([60.309185, 25.03645 ], dtype=float32), 'timestamp': datetime.datetime(2021, 6, 9, 13, 52, 9)}, 267: {'Rate': 1, 'coords': array([60.30919 , 25.036465], dtype=float32), 'timestamp': datetime.datetime(2021, 6, 9, 13, 52, 9)}, 268: {'Rate': 0, 'coords': array([60.30919 , 25.036457], dtype=float32), 'timestamp': datetime.datetime(2021, 6, 9, 13, 52, 9)}, 269: {'Rate': 1, 'coords': array([60.309193, 25.036474], dtype=float32), 'timestamp': datetime.datetime(2021, 6, 9, 13, 52, 9)}, 270: {'Rate': 0, 'coords': array([60.309185, 25.036442], dtype=float32), 'timestamp': datetime.datetime(2021, 6, 9, 13, 52, 9)}, 271: {'Rate': 1, 'coords': array([60.30919 , 25.036463], dtype=float32), 'timestamp': datetime.datetime(2021, 6, 9, 13, 52, 9)}, 272: {'Rate': 0, 'coords': array([60.309193, 25.036472], dtype=float32), 'timestamp': datetime.datetime(2021, 6, 9, 13, 52, 9)}, 273: {'Rate': 0, 'coords': array([60.309185, 25.036446], dtype=float32), 'timestamp': datetime.datetime(2021, 6, 9, 13, 52, 9)}, 274: {'Rate': 1, 'coords': array([60.30919 , 25.036463], dtype=float32), 'timestamp': datetime.datetime(2021, 6, 9, 13, 52, 9)}, 275: {'Rate': 1, 'coords': array([60.309185, 25.036451], dtype=float32), 'timestamp': datetime.datetime(2021, 6, 9, 13, 52, 9)}, 276: {'Rate': 0, 'coords': array([60.309185, 25.036448], dtype=float32), 'timestamp': datetime.datetime(2021, 6, 9, 13, 52, 9)}, 277: {'Rate': 1, 'coords': array([60.309185, 25.036448], dtype=float32), 'timestamp': datetime.datetime(2021, 6, 9, 13, 52, 9)}, 278: {'Rate': 1, 'coords': array([60.309193, 25.03647 ], dtype=float32), 'timestamp': datetime.datetime(2021, 6, 9, 13, 52, 9)}, 279: {'Rate': 1, 'coords': array([60.30919 , 25.036453], dtype=float32), 'timestamp': datetime.datetime(2021, 6, 9, 13, 52, 9)}, 280: {'Rate': 1, 'coords': array([60.30919, 25.03646], dtype=float32), 'timestamp': datetime.datetime(2021, 6, 9, 13, 52, 9)}, 281: {'Rate': 0, 'coords': array([60.309185, 25.036444], dtype=float32), 'timestamp': datetime.datetime(2021, 6, 9, 13, 52, 9)}, 282: {'Rate': 0, 'coords': array([60.309185, 25.036448], dtype=float32), 'timestamp': datetime.datetime(2021, 6, 9, 13, 52, 9)}, 283: {'Rate': 0, 'coords': array([60.30919 , 25.036457], dtype=float32), 'timestamp': datetime.datetime(2021, 6, 9, 13, 52, 9)}, 284: {'Rate': 0, 'coords': array([60.309185, 25.036448], dtype=float32), 'timestamp': datetime.datetime(2021, 6, 9, 13, 52, 9)}, 285: {'Rate': 1, 'coords': array([60.30918 , 25.036432], dtype=float32), 'timestamp': datetime.datetime(2021, 6, 9, 13, 52, 9)}, 286: {'Rate': 0, 'coords': array([60.309185, 25.036448], dtype=float32), 'timestamp': datetime.datetime(2021, 6, 9, 13, 52, 9)}, 287: {'Rate': 0, 'coords': array([60.309185, 25.036438], dtype=float32), 'timestamp': datetime.datetime(2021, 6, 9, 13, 52, 9)}, 288: {'Rate': 1, 'coords': array([60.309185, 25.03645 ], dtype=float32), 'timestamp': datetime.datetime(2021, 6, 9, 13, 52, 9)}, 289: {'Rate': 1, 'coords': array([60.309185, 25.036438], dtype=float32), 'timestamp': datetime.datetime(2021, 6, 9, 13, 52, 9)}, 290: {'Rate': 0, 'coords': array([60.30919 , 25.036457], dtype=float32), 'timestamp': datetime.datetime(2021, 6, 9, 13, 52, 9)}, 291: {'Rate': 1, 'coords': array([60.309185, 25.036451], dtype=float32), 'timestamp': datetime.datetime(2021, 6, 9, 13, 52, 9)}, 292: {'Rate': 1, 'coords': array([60.309185, 25.036444], dtype=float32), 'timestamp': datetime.datetime(2021, 6, 9, 13, 52, 9)}, 293: {'Rate': 1, 'coords': array([60.309185, 25.036442], dtype=float32), 'timestamp': datetime.datetime(2021, 6, 9, 13, 52, 9)}, 294: {'Rate': 1, 'coords': array([60.30919 , 25.036453], dtype=float32), 'timestamp': datetime.datetime(2021, 6, 9, 13, 52, 9)}, 295: {'Rate': 0, 'coords': array([60.30919 , 25.036467], dtype=float32), 'timestamp': datetime.datetime(2021, 6, 9, 13, 52, 9)}, 296: {'Rate': 1, 'coords': array([60.30919, 25.03646], dtype=float32), 'timestamp': datetime.datetime(2021, 6, 9, 13, 52, 9)}, 297: {'Rate': 1, 'coords': array([60.309185, 25.036451], dtype=float32), 'timestamp': datetime.datetime(2021, 6, 9, 13, 52, 9)}, 298: {'Rate': 1, 'coords': array([60.30919 , 25.036455], dtype=float32), 'timestamp': datetime.datetime(2021, 6, 9, 13, 52, 9)}, 299: {'Rate': 0, 'coords': array([60.30919, 25.03646], dtype=float32), 'timestamp': datetime.datetime(2021, 6, 9, 13, 52, 9)}})"
      ]
     },
     "execution_count": 14,
     "metadata": {},
     "output_type": "execute_result"
    }
   ],
   "source": [
    "# see graph nodes\n",
    "# to see data add data=true\n",
    "G.nodes(data=True)"
   ]
  },
  {
   "cell_type": "code",
   "execution_count": 15,
   "id": "8b681b73",
   "metadata": {},
   "outputs": [],
   "source": [
    "def geodesic_distance(nodeidx1, nodeidx2):\n",
    "    '''\n",
    "    distance between two individuals in meters\n",
    "\n",
    "    Parameters\n",
    "    ----------\n",
    "    nodeidx1 : int\n",
    "        index of first individual\n",
    "\n",
    "    nodeidx2 : int\n",
    "        index of second individual\n",
    "    \n",
    "    Returns\n",
    "    -------\n",
    "    dist : float\n",
    "        distance between two individuals in meters\n",
    "\n",
    "    Example\n",
    "    -------\n",
    "    >>> geodesic_distance(0, 1)\n",
    "    0.0\n",
    "    '''\n",
    "    # get the coordinates of the two individuals\n",
    "    coords1 = G.nodes[nodeidx1][\"coords\"]\n",
    "    coords2 = G.nodes[nodeidx2][\"coords\"]\n",
    "    # compute the distance between the two individuals\n",
    "    dist = np.linalg.norm(coords1 - coords2)\n",
    "    # return the distance in meters\n",
    "    return dist\n",
    "\n",
    "# if distance is below two meters connect individuals by and edge\n",
    "for nodeidx1 in range(no_of_nodes):\n",
    "    for nodeidx2 in range(no_of_nodes):\n",
    "        if nodeidx1 != nodeidx2:\n",
    "            dist = geodesic(G.nodes[nodeidx1]['coords'],G.nodes[nodeidx2]['coords']).meters\n",
    "            if dist < 2:\n",
    "                G.add_edge(nodeidx1, nodeidx2)"
   ]
  },
  {
   "cell_type": "code",
   "execution_count": 16,
   "id": "1dde94f8",
   "metadata": {},
   "outputs": [
    {
     "data": {
      "image/png": "[encoded data removed]",
      "text/plain": [
       "<Figure size 640x480 with 1 Axes>"
      ]
     },
     "metadata": {},
     "output_type": "display_data"
    }
   ],
   "source": [
    "# visualize the graph\n",
    "nc  = nx.draw(G,pos=nx.spring_layout(G))\n",
    "\n",
    "# display figure using plt.show()\n",
    "\n",
    "plt.show()"
   ]
  },
  {
   "cell_type": "code",
   "execution_count": 17,
   "id": "4a238a65-0241-4769-a84e-09b43d90df04",
   "metadata": {},
   "outputs": [
    {
     "data": {
      "image/png": "[encoded data removed]",
      "text/plain": [
       "<Figure size 640x480 with 1 Axes>"
      ]
     },
     "metadata": {},
     "output_type": "display_data"
    }
   ],
   "source": [
    "# change layout to spread out the nodes\n",
    "pos = nx.spring_layout(G)\n",
    "nx.draw(G, pos, with_labels=True)"
   ]
  },
  {
   "cell_type": "markdown",
   "id": "33ee9c8c",
   "metadata": {},
   "source": [
    "## Infection Rate"
   ]
  },
  {
   "cell_type": "code",
   "execution_count": 19,
   "id": "bdbcad0b",
   "metadata": {},
   "outputs": [],
   "source": [
    "# set variable \"nriters\" to 30\n",
    "nriters=30\n",
    "\n",
    "# create numpy array `W_MH` of shape (nrnodes,nrnodes) and with all entries zero\n",
    "\n",
    "W_MH = np.zeros((no_of_nodes,no_of_nodes)) \n",
    "\n",
    "# loop over all edges in G.edges ()  \n",
    "\n",
    "for edge in G.edges(): \n",
    "    # store first node of this edge in variable \"node_a\"\n",
    "    node_a = edge[0]\n",
    "    # store second node of this edge in variable \"node_b\"\n",
    "    node_b = edge[1]\n",
    "    # set entry W_MH[node_a,node_b] and W_MH[node_b,node_a] to MH weight  \n",
    "    W_MH[node_a,node_b] = 1/(np.max([G.degree(node_a),G.degree(node_b)])+1)\n",
    "    W_MH[node_b,node_a] = 1/(np.max([G.degree(node_a),G.degree(node_b)])+1)\n",
    "\n",
    "# loop over all nodes in the contact network G\n",
    "for nodedmy in G.nodes(): \n",
    "    # set weights W[nodedmy,nodedmy] to 1 - sum of weights for all neighbors of nodedmy\n",
    "    W_MH[nodedmy,nodedmy] = 1-np.sum(W_MH[nodedmy,:])\n",
    "   \n",
    "# loop over iterations for computing average infection rates\n",
    "\n",
    "for iterdmy in range(nriters):\n",
    "    # read in current values of \"Rate\" attributes into numpy array `graphsigold`\n",
    "    graphsigold = np.fromiter(nx.get_node_attributes(G,'Rate').values(),dtype=float, count=no_of_nodes)\n",
    "    \n",
    "    # loop over all nodes in \"G\", use loop variable \"node_i\"\n",
    "    for node_i in G.nodes(data=False):\n",
    "        # set auxiliary variable \"tmp\" to 0 \n",
    "        dmy = 0 \n",
    "        # loop over all neighbours of current node \"node_i\"\n",
    "        for node_j in G[node_i]: \n",
    "             dmy = dmy+W_MH[node_i,node_j]*graphsigold[node_j]#/(fac1*fac2)\n",
    "        G.nodes[node_i]['Rate'] =W_MH[node_i,node_i]*graphsigold[node_i] + dmy"
   ]
  },
  {
   "cell_type": "code",
   "execution_count": 20,
   "id": "437eeeef",
   "metadata": {},
   "outputs": [
    {
     "data": {
      "image/png": "[encoded data removed]",
      "text/plain": [
       "<Figure size 640x480 with 2 Axes>"
      ]
     },
     "metadata": {},
     "output_type": "display_data"
    }
   ],
   "source": [
    "# create a NodeView object \"nodes\" for the nodes in the networkx graph \"G\" \n",
    "nodes = G.nodes()\n",
    "\n",
    "# create a list of \"Rate\" attribute for all nodes in \"G\"\n",
    "list_of_rates = [G.nodes[node_i]['Rate'] for node_i in nodes]\n",
    "\n",
    "# create coordinates of nodes in figure using nx.spring_layout(G) \n",
    "pos = nx.spring_layout(G)\n",
    "\n",
    "# draw edges of \"G\" using nx.draw_networkx_edges() \n",
    "ec  = nx.draw_networkx_edges(G, pos)\n",
    "\n",
    "# use nx.draw_networkx_nodes() to draw nodes of \"G\" using node colours given by \"Rate\" value for each node\n",
    "nc  = nx.draw_networkx_nodes(G, pos, nodelist=nodes, node_color=list_of_rates,\n",
    "                             node_size=100, cmap=plt.cm.jet)\n",
    "\n",
    "# add colorbar using plt.colorbar(); this needs as parameter the object returned by the above nx.draw_networkx_nodes()\n",
    "plt.colorbar(nc)\n",
    "\n",
    "# display figure using plt.show()\n",
    "\n",
    "plt.show()"
   ]
  },
  {
   "cell_type": "code",
   "execution_count": null,
   "id": "98fd7767",
   "metadata": {},
   "outputs": [],
   "source": [
    "# summary of notebook\n",
    "# 1. read in data from csv file: ID, Lat, Lon, Date, Covid19\n",
    "# 2. create networkx graph: nodes are individuals, edges are contacts\n",
    "# 3. compute distance between individuals: if below 2 meters, connect by edge\n",
    "# 4. create adjacency matrix: entries are 1 if connected, 0 otherwise\n",
    "# 5. compute average infection rates: use Metropolis-Hastings algorithm where weights are given by degree of nodes\n",
    "# 6. visualize graph: nodes are individuals, color is infection rate: red is high, blue is low"
   ]
  },
  {
   "attachments": {},
   "cell_type": "markdown",
   "id": "9696e6dd",
   "metadata": {},
   "source": [
    "We create a graph from the CSV file. The nodes are the people and the edges are the contacts between them. If the individual is 2 meters away from another person, then there is no edge between them. If the individual is less than 2 meters away from another person, then there is an edge between them.\n",
    "\n",
    "The infection rate is the probability that a person will be infected if they are in contact with an infected person. We assume that the infection rate is 0.5. This means that if a person is in contact with an infected person, then there is a 50% chance that they will be infected. The Metropolis-Hasitngs algorithm is used to sample the infection rate from a uniform distribution.\n",
    "\n",
    "A heatmap is created to show the infection rate of the graph. The darker the color, the higher the infection rate. The lighter the color, the lower the infection rate. Red means that the infection rate is close to 1.0. Blue means that the infection rate is close to 0.0."
   ]
  },
  {
   "cell_type": "markdown",
   "id": "d615a999",
   "metadata": {},
   "source": []
  }
 ],
 "metadata": {
  "kernelspec": {
   "display_name": "Python 3 (ipykernel)",
   "language": "python",
   "name": "python3"
  },
  "language_info": {
   "codemirror_mode": {
    "name": "ipython",
    "version": 3
   },
   "file_extension": ".py",
   "mimetype": "text/x-python",
   "name": "python",
   "nbconvert_exporter": "python",
   "pygments_lexer": "ipython3",
   "version": "3.8.5"
  },
  "vscode": {
   "interpreter": {
    "hash": "a6515246a4d677b32bcae4f85f074a2a28abed2fb888ef87af1449dc43f51527"
   }
  }
 },
 "nbformat": 4,
 "nbformat_minor": 5
}
